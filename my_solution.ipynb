{
 "metadata": {
  "language_info": {
   "codemirror_mode": {
    "name": "ipython",
    "version": 3
   },
   "file_extension": ".py",
   "mimetype": "text/x-python",
   "name": "python",
   "nbconvert_exporter": "python",
   "pygments_lexer": "ipython3",
   "version": "3.8.0"
  },
  "orig_nbformat": 2,
  "kernelspec": {
   "name": "python380jvsc74a57bd05feb23d9b6f3d2f97e54f914d0941da191233d8fb5561e2f0cb42259e062b7b7",
   "display_name": "Python 3.8.0 64-bit"
  }
 },
 "nbformat": 4,
 "nbformat_minor": 2,
 "cells": [
  {
   "cell_type": "code",
   "execution_count": 1,
   "metadata": {},
   "outputs": [],
   "source": [
    "import numpy as np\n",
    "import pandas as pd\n",
    "import os\n",
    "import tarfile\n",
    "import io\n",
    "import matplotlib\n",
    "import matplotlib.pyplot as plt\n",
    "from pandas.plotting import scatter_matrix\n",
    "from sklearn.model_selection import train_test_split\n",
    "from sklearn.linear_model import LogisticRegression\n",
    "from sklearn.metrics import confusion_matrix, precision_score, recall_score, f1_score\n",
    "from sklearn.preprocessing import OrdinalEncoder"
   ]
  },
  {
   "cell_type": "code",
   "execution_count": 2,
   "metadata": {},
   "outputs": [],
   "source": [
    "train = pd.read_csv('train.csv')\n",
    "test = pd.read_csv('test.csv')\n",
    "sample_submission = pd.read_csv('sample_submission.csv')"
   ]
  },
  {
   "cell_type": "code",
   "execution_count": 3,
   "metadata": {},
   "outputs": [
    {
     "output_type": "stream",
     "name": "stdout",
     "text": [
      "attribute  0 named  Id missing count:  0\nattribute  1 named  MSSubClass missing count:  0\nattribute  2 named  MSZoning missing count:  0\nattribute  3 named  LotFrontage missing count:  259\nattribute  4 named  LotArea missing count:  0\nattribute  5 named  Street missing count:  0\nattribute  6 named  Alley missing count:  1369\nattribute  7 named  LotShape missing count:  0\nattribute  8 named  LandContour missing count:  0\nattribute  9 named  Utilities missing count:  0\nattribute  10 named  LotConfig missing count:  0\nattribute  11 named  LandSlope missing count:  0\nattribute  12 named  Neighborhood missing count:  0\nattribute  13 named  Condition1 missing count:  0\nattribute  14 named  Condition2 missing count:  0\nattribute  15 named  BldgType missing count:  0\nattribute  16 named  HouseStyle missing count:  0\nattribute  17 named  OverallQual missing count:  0\nattribute  18 named  OverallCond missing count:  0\nattribute  19 named  YearBuilt missing count:  0\nattribute  20 named  YearRemodAdd missing count:  0\nattribute  21 named  RoofStyle missing count:  0\nattribute  22 named  RoofMatl missing count:  0\nattribute  23 named  Exterior1st missing count:  0\nattribute  24 named  Exterior2nd missing count:  0\nattribute  25 named  MasVnrType missing count:  8\nattribute  26 named  MasVnrArea missing count:  8\nattribute  27 named  ExterQual missing count:  0\nattribute  28 named  ExterCond missing count:  0\nattribute  29 named  Foundation missing count:  0\nattribute  30 named  BsmtQual missing count:  37\nattribute  31 named  BsmtCond missing count:  37\nattribute  32 named  BsmtExposure missing count:  38\nattribute  33 named  BsmtFinType1 missing count:  37\nattribute  34 named  BsmtFinSF1 missing count:  0\nattribute  35 named  BsmtFinType2 missing count:  38\nattribute  36 named  BsmtFinSF2 missing count:  0\nattribute  37 named  BsmtUnfSF missing count:  0\nattribute  38 named  TotalBsmtSF missing count:  0\nattribute  39 named  Heating missing count:  0\nattribute  40 named  HeatingQC missing count:  0\nattribute  41 named  CentralAir missing count:  0\nattribute  42 named  Electrical missing count:  1\nattribute  43 named  1stFlrSF missing count:  0\nattribute  44 named  2ndFlrSF missing count:  0\nattribute  45 named  LowQualFinSF missing count:  0\nattribute  46 named  GrLivArea missing count:  0\nattribute  47 named  BsmtFullBath missing count:  0\nattribute  48 named  BsmtHalfBath missing count:  0\nattribute  49 named  FullBath missing count:  0\nattribute  50 named  HalfBath missing count:  0\nattribute  51 named  BedroomAbvGr missing count:  0\nattribute  52 named  KitchenAbvGr missing count:  0\nattribute  53 named  KitchenQual missing count:  0\nattribute  54 named  TotRmsAbvGrd missing count:  0\nattribute  55 named  Functional missing count:  0\nattribute  56 named  Fireplaces missing count:  0\nattribute  57 named  FireplaceQu missing count:  690\nattribute  58 named  GarageType missing count:  81\nattribute  59 named  GarageYrBlt missing count:  81\nattribute  60 named  GarageFinish missing count:  81\nattribute  61 named  GarageCars missing count:  0\nattribute  62 named  GarageArea missing count:  0\nattribute  63 named  GarageQual missing count:  81\nattribute  64 named  GarageCond missing count:  81\nattribute  65 named  PavedDrive missing count:  0\nattribute  66 named  WoodDeckSF missing count:  0\nattribute  67 named  OpenPorchSF missing count:  0\nattribute  68 named  EnclosedPorch missing count:  0\nattribute  69 named  3SsnPorch missing count:  0\nattribute  70 named  ScreenPorch missing count:  0\nattribute  71 named  PoolArea missing count:  0\nattribute  72 named  PoolQC missing count:  1453\nattribute  73 named  Fence missing count:  1179\nattribute  74 named  MiscFeature missing count:  1406\nattribute  75 named  MiscVal missing count:  0\nattribute  76 named  MoSold missing count:  0\nattribute  77 named  YrSold missing count:  0\nattribute  78 named  SaleType missing count:  0\nattribute  79 named  SaleCondition missing count:  0\nattribute  80 named  SalePrice missing count:  0\n"
     ]
    }
   ],
   "source": [
    "i=0\n",
    "for column in train:\n",
    "  print(\"attribute \", i, \"named \", column, \"missing count: \", train[column].isna().sum())\n",
    "  i += 1"
   ]
  },
  {
   "cell_type": "code",
   "execution_count": 4,
   "metadata": {},
   "outputs": [],
   "source": [
    "train = train.drop(columns=['LotFrontage','Alley', 'FireplaceQu', 'PoolQC', 'Fence', 'MiscFeature', 'HouseStyle'])\n",
    "test = test.drop(columns=['LotFrontage','Alley', 'FireplaceQu', 'PoolQC', 'Fence', 'MiscFeature', 'HouseStyle'])"
   ]
  },
  {
   "cell_type": "code",
   "execution_count": 5,
   "metadata": {},
   "outputs": [
    {
     "output_type": "stream",
     "name": "stdout",
     "text": [
      "attribute  0 named  Id missing count:  0\nattribute  1 named  MSSubClass missing count:  0\nattribute  2 named  MSZoning missing count:  0\nattribute  3 named  LotArea missing count:  0\nattribute  4 named  Street missing count:  0\nattribute  5 named  LotShape missing count:  0\nattribute  6 named  LandContour missing count:  0\nattribute  7 named  Utilities missing count:  0\nattribute  8 named  LotConfig missing count:  0\nattribute  9 named  LandSlope missing count:  0\nattribute  10 named  Neighborhood missing count:  0\nattribute  11 named  Condition1 missing count:  0\nattribute  12 named  Condition2 missing count:  0\nattribute  13 named  BldgType missing count:  0\nattribute  14 named  OverallQual missing count:  0\nattribute  15 named  OverallCond missing count:  0\nattribute  16 named  YearBuilt missing count:  0\nattribute  17 named  YearRemodAdd missing count:  0\nattribute  18 named  RoofStyle missing count:  0\nattribute  19 named  RoofMatl missing count:  0\nattribute  20 named  Exterior1st missing count:  0\nattribute  21 named  Exterior2nd missing count:  0\nattribute  22 named  MasVnrType missing count:  0\nattribute  23 named  MasVnrArea missing count:  0\nattribute  24 named  ExterQual missing count:  0\nattribute  25 named  ExterCond missing count:  0\nattribute  26 named  Foundation missing count:  0\nattribute  27 named  BsmtQual missing count:  0\nattribute  28 named  BsmtCond missing count:  0\nattribute  29 named  BsmtExposure missing count:  0\nattribute  30 named  BsmtFinType1 missing count:  0\nattribute  31 named  BsmtFinSF1 missing count:  0\nattribute  32 named  BsmtFinType2 missing count:  0\nattribute  33 named  BsmtFinSF2 missing count:  0\nattribute  34 named  BsmtUnfSF missing count:  0\nattribute  35 named  TotalBsmtSF missing count:  0\nattribute  36 named  Heating missing count:  0\nattribute  37 named  HeatingQC missing count:  0\nattribute  38 named  CentralAir missing count:  0\nattribute  39 named  Electrical missing count:  0\nattribute  40 named  1stFlrSF missing count:  0\nattribute  41 named  2ndFlrSF missing count:  0\nattribute  42 named  LowQualFinSF missing count:  0\nattribute  43 named  GrLivArea missing count:  0\nattribute  44 named  BsmtFullBath missing count:  0\nattribute  45 named  BsmtHalfBath missing count:  0\nattribute  46 named  FullBath missing count:  0\nattribute  47 named  HalfBath missing count:  0\nattribute  48 named  BedroomAbvGr missing count:  0\nattribute  49 named  KitchenAbvGr missing count:  0\nattribute  50 named  KitchenQual missing count:  0\nattribute  51 named  TotRmsAbvGrd missing count:  0\nattribute  52 named  Functional missing count:  0\nattribute  53 named  Fireplaces missing count:  0\nattribute  54 named  GarageType missing count:  0\nattribute  55 named  GarageYrBlt missing count:  0\nattribute  56 named  GarageFinish missing count:  0\nattribute  57 named  GarageCars missing count:  0\nattribute  58 named  GarageArea missing count:  0\nattribute  59 named  GarageQual missing count:  0\nattribute  60 named  GarageCond missing count:  0\nattribute  61 named  PavedDrive missing count:  0\nattribute  62 named  WoodDeckSF missing count:  0\nattribute  63 named  OpenPorchSF missing count:  0\nattribute  64 named  EnclosedPorch missing count:  0\nattribute  65 named  3SsnPorch missing count:  0\nattribute  66 named  ScreenPorch missing count:  0\nattribute  67 named  PoolArea missing count:  0\nattribute  68 named  MiscVal missing count:  0\nattribute  69 named  MoSold missing count:  0\nattribute  70 named  YrSold missing count:  0\nattribute  71 named  SaleType missing count:  0\nattribute  72 named  SaleCondition missing count:  0\nattribute  73 named  SalePrice missing count:  0\n"
     ]
    }
   ],
   "source": [
    "train = train.dropna(subset=['MasVnrType', 'Electrical', 'BsmtFinType2', 'BsmtExposure', 'GarageCond'])\n",
    "i=0\n",
    "for column in train:\n",
    "  print(\"attribute \", i, \"named \", column, \"missing count: \", train[column].isna().sum())\n",
    "  i += 1"
   ]
  },
  {
   "cell_type": "code",
   "execution_count": 6,
   "metadata": {},
   "outputs": [
    {
     "output_type": "stream",
     "name": "stdout",
     "text": [
      "1338\n"
     ]
    }
   ],
   "source": [
    "print(len(train['Id']))"
   ]
  },
  {
   "cell_type": "code",
   "execution_count": 7,
   "metadata": {},
   "outputs": [],
   "source": [
    "train = train.drop(columns=['Id'])\n",
    "test = test.drop(columns=['Id'])"
   ]
  },
  {
   "cell_type": "code",
   "execution_count": 8,
   "metadata": {},
   "outputs": [
    {
     "output_type": "execute_result",
     "data": {
      "text/plain": [
       "0    60\n",
       "1    20\n",
       "2    60\n",
       "3    70\n",
       "4    60\n",
       "Name: MSSubClass, dtype: int64"
      ]
     },
     "metadata": {},
     "execution_count": 8
    }
   ],
   "source": [
    "train['MSSubClass'].head()"
   ]
  },
  {
   "cell_type": "code",
   "execution_count": 9,
   "metadata": {},
   "outputs": [
    {
     "output_type": "execute_result",
     "data": {
      "text/plain": [
       "pandas.core.series.Series"
      ]
     },
     "metadata": {},
     "execution_count": 9
    }
   ],
   "source": [
    "type(train['LotShape'])"
   ]
  },
  {
   "cell_type": "code",
   "execution_count": 10,
   "metadata": {},
   "outputs": [],
   "source": [
    "train['LotShape'].replace(to_replace='IR3', value=0, inplace=True)"
   ]
  },
  {
   "cell_type": "code",
   "execution_count": 11,
   "metadata": {},
   "outputs": [],
   "source": [
    "train['LotShape'].replace(to_replace='IR2', value=1, inplace=True)\n",
    "train['LotShape'].replace(to_replace='IR1', value=2, inplace=True)\n",
    "train['LotShape'].replace(to_replace='Reg', value=3, inplace=True)"
   ]
  },
  {
   "cell_type": "code",
   "execution_count": 12,
   "metadata": {},
   "outputs": [],
   "source": [
    "test['LotShape'].replace(to_replace='IR3', value=0, inplace=True)\n",
    "test['LotShape'].replace(to_replace='IR2', value=1, inplace=True)\n",
    "test['LotShape'].replace(to_replace='IR1', value=2, inplace=True)\n",
    "test['LotShape'].replace(to_replace='Reg', value=3, inplace=True)"
   ]
  },
  {
   "cell_type": "code",
   "execution_count": 13,
   "metadata": {},
   "outputs": [
    {
     "output_type": "execute_result",
     "data": {
      "text/plain": [
       "0    3\n",
       "1    3\n",
       "2    2\n",
       "3    2\n",
       "4    2\n",
       "Name: LotShape, dtype: int64"
      ]
     },
     "metadata": {},
     "execution_count": 13
    }
   ],
   "source": [
    "train['LotShape'].head()"
   ]
  },
  {
   "cell_type": "code",
   "execution_count": 14,
   "metadata": {},
   "outputs": [],
   "source": [
    "train['Street'].replace(to_replace='Grvl', value=0, inplace=True)\n",
    "train['Street'].replace(to_replace='Pave', value=1, inplace=True)"
   ]
  },
  {
   "cell_type": "code",
   "execution_count": 15,
   "metadata": {},
   "outputs": [],
   "source": [
    "test['Street'].replace(to_replace='Grvl', value=0, inplace=True)\n",
    "test['Street'].replace(to_replace='Pave', value=1, inplace=True)"
   ]
  },
  {
   "cell_type": "code",
   "execution_count": 16,
   "metadata": {},
   "outputs": [],
   "source": [
    "train['LandContour'].replace(to_replace='Low', value=0, inplace=True)\n",
    "train['LandContour'].replace(to_replace='HLS', value=1, inplace=True)\n",
    "train['LandContour'].replace(to_replace='Bnk', value=2, inplace=True)\n",
    "train['LandContour'].replace(to_replace='Lvl', value=3, inplace=True)"
   ]
  },
  {
   "cell_type": "code",
   "execution_count": 17,
   "metadata": {},
   "outputs": [],
   "source": [
    "train['Utilities'].replace(to_replace='ELO', value=0, inplace=True)\n",
    "train['Utilities'].replace(to_replace='NoSeWa', value=1, inplace=True)\n",
    "train['Utilities'].replace(to_replace='NoSewr', value=2, inplace=True)\n",
    "train['Utilities'].replace(to_replace='AllPub', value=3, inplace=True)\n"
   ]
  },
  {
   "cell_type": "code",
   "execution_count": 18,
   "metadata": {},
   "outputs": [],
   "source": [
    "test['LandContour'].replace(to_replace='Low', value=0, inplace=True)\n",
    "test['LandContour'].replace(to_replace='HLS', value=1, inplace=True)\n",
    "test['LandContour'].replace(to_replace='Bnk', value=2, inplace=True)\n",
    "test['LandContour'].replace(to_replace='Lvl', value=3, inplace=True)\n",
    "test['Utilities'].replace(to_replace='ELO', value=0, inplace=True)\n",
    "test['Utilities'].replace(to_replace='NoSeWa', value=1, inplace=True)\n",
    "test['Utilities'].replace(to_replace='NoSewr', value=2, inplace=True)\n",
    "test['Utilities'].replace(to_replace='AllPub', value=3, inplace=True)\n"
   ]
  },
  {
   "cell_type": "code",
   "execution_count": 19,
   "metadata": {},
   "outputs": [],
   "source": [
    "train.drop(columns=['LotConfig'], inplace=True)"
   ]
  },
  {
   "cell_type": "code",
   "execution_count": 20,
   "metadata": {},
   "outputs": [],
   "source": [
    "test.drop(columns=['LotConfig'], inplace=True)"
   ]
  },
  {
   "cell_type": "code",
   "execution_count": 21,
   "metadata": {},
   "outputs": [],
   "source": [
    "train['LandSlope'].replace(to_replace='Sev', value=0, inplace=True)\n"
   ]
  },
  {
   "cell_type": "code",
   "execution_count": 22,
   "metadata": {},
   "outputs": [],
   "source": [
    "train['LandSlope'].replace(to_replace='Mod', value=1, inplace=True)\n",
    "train['LandSlope'].replace(to_replace='Gtl', value=2, inplace=True)\n",
    "\n",
    "test['LandSlope'].replace(to_replace='Sev', value=0, inplace=True)\n",
    "test['LandSlope'].replace(to_replace='Mod', value=1, inplace=True)\n",
    "test['LandSlope'].replace(to_replace='Gtl', value=2, inplace=True)"
   ]
  },
  {
   "cell_type": "code",
   "execution_count": 23,
   "metadata": {},
   "outputs": [],
   "source": [
    "train['ExterQual'].replace(to_replace='Po', value=0, inplace=True)\n",
    "train['ExterQual'].replace(to_replace='Fa', value=1, inplace=True)\n",
    "train['ExterQual'].replace(to_replace='TA', value=2, inplace=True)\n",
    "train['ExterQual'].replace(to_replace='Gd', value=3, inplace=True)\n",
    "train['ExterQual'].replace(to_replace='Ex', value=4, inplace=True)\n",
    "\n",
    "test['ExterQual'].replace(to_replace='Po', value=0, inplace=True)\n",
    "test['ExterQual'].replace(to_replace='Fa', value=1, inplace=True)\n",
    "test['ExterQual'].replace(to_replace='TA', value=2, inplace=True)\n",
    "test['ExterQual'].replace(to_replace='Gd', value=3, inplace=True)\n",
    "test['ExterQual'].replace(to_replace='Ex', value=4, inplace=True)"
   ]
  },
  {
   "cell_type": "code",
   "execution_count": 24,
   "metadata": {},
   "outputs": [],
   "source": [
    "train['ExterCond'].replace(to_replace='Po', value=0, inplace=True)\n",
    "train['ExterCond'].replace(to_replace='Fa', value=1, inplace=True)\n",
    "train['ExterCond'].replace(to_replace='TA', value=2, inplace=True)\n",
    "train['ExterCond'].replace(to_replace='Gd', value=3, inplace=True)\n",
    "train['ExterCond'].replace(to_replace='Ex', value=4, inplace=True)\n",
    "\n",
    "test['ExterCond'].replace(to_replace='Po', value=0, inplace=True)\n",
    "test['ExterCond'].replace(to_replace='Fa', value=1, inplace=True)\n",
    "test['ExterCond'].replace(to_replace='TA', value=2, inplace=True)\n",
    "test['ExterCond'].replace(to_replace='Gd', value=3, inplace=True)\n",
    "test['ExterCond'].replace(to_replace='Ex', value=4, inplace=True)"
   ]
  },
  {
   "cell_type": "code",
   "execution_count": 25,
   "metadata": {},
   "outputs": [],
   "source": [
    "train['BsmtQual'].replace(to_replace='NA', value=-1, inplace=True)\n",
    "train['BsmtQual'].replace(to_replace='Po', value=0, inplace=True)\n",
    "train['BsmtQual'].replace(to_replace='Fa', value=1, inplace=True)\n",
    "train['BsmtQual'].replace(to_replace='TA', value=2, inplace=True)\n",
    "train['BsmtQual'].replace(to_replace='Gd', value=3, inplace=True)\n",
    "train['BsmtQual'].replace(to_replace='Ex', value=4, inplace=True)\n",
    "\n",
    "test['BsmtQual'].replace(to_replace='NA', value=-1, inplace=True)\n",
    "test['BsmtQual'].replace(to_replace='Po', value=0, inplace=True)\n",
    "test['BsmtQual'].replace(to_replace='Fa', value=1, inplace=True)\n",
    "test['BsmtQual'].replace(to_replace='TA', value=2, inplace=True)\n",
    "test['BsmtQual'].replace(to_replace='Gd', value=3, inplace=True)\n",
    "test['BsmtQual'].replace(to_replace='Ex', value=4, inplace=True)"
   ]
  },
  {
   "cell_type": "code",
   "execution_count": 26,
   "metadata": {},
   "outputs": [],
   "source": [
    "train['BsmtCond'].replace(to_replace='NA', value=-1, inplace=True)\n",
    "train['BsmtCond'].replace(to_replace='Po', value=0, inplace=True)\n",
    "train['BsmtCond'].replace(to_replace='Fa', value=1, inplace=True)\n",
    "train['BsmtCond'].replace(to_replace='TA', value=2, inplace=True)\n",
    "train['BsmtCond'].replace(to_replace='Gd', value=3, inplace=True)\n",
    "train['BsmtCond'].replace(to_replace='Ex', value=4, inplace=True)\n",
    "\n",
    "test['BsmtCond'].replace(to_replace='NA', value=-1, inplace=True)\n",
    "test['BsmtCond'].replace(to_replace='Po', value=0, inplace=True)\n",
    "test['BsmtCond'].replace(to_replace='Fa', value=1, inplace=True)\n",
    "test['BsmtCond'].replace(to_replace='TA', value=2, inplace=True)\n",
    "test['BsmtCond'].replace(to_replace='Gd', value=3, inplace=True)\n",
    "test['BsmtCond'].replace(to_replace='Ex', value=4, inplace=True)"
   ]
  },
  {
   "cell_type": "code",
   "execution_count": 27,
   "metadata": {},
   "outputs": [],
   "source": [
    "train['BsmtExposure'].replace(to_replace='NA', value=0, inplace=True)\n",
    "train['BsmtExposure'].replace(to_replace='No', value=1, inplace=True)\n",
    "train['BsmtExposure'].replace(to_replace='Mn', value=2, inplace=True)\n",
    "train['BsmtExposure'].replace(to_replace='Av', value=3, inplace=True)\n",
    "train['BsmtExposure'].replace(to_replace='Gd', value=4, inplace=True)\n",
    "\n",
    "test['BsmtExposure'].replace(to_replace='NA', value=0, inplace=True)\n",
    "test['BsmtExposure'].replace(to_replace='No', value=1, inplace=True)\n",
    "test['BsmtExposure'].replace(to_replace='Mn', value=2, inplace=True)\n",
    "test['BsmtExposure'].replace(to_replace='Av', value=3, inplace=True)\n",
    "test['BsmtExposure'].replace(to_replace='Gd', value=4, inplace=True)"
   ]
  },
  {
   "cell_type": "code",
   "execution_count": 28,
   "metadata": {},
   "outputs": [],
   "source": [
    "train['BsmtFinType1'].replace(to_replace='NA', value=-1, inplace=True)\n",
    "train['BsmtFinType1'].replace(to_replace='Unf', value=0, inplace=True)\n",
    "train['BsmtFinType1'].replace(to_replace='Fa', value=1, inplace=True)\n",
    "train['BsmtFinType1'].replace(to_replace='LwQ', value=2, inplace=True)\n",
    "train['BsmtFinType1'].replace(to_replace='Rec', value=3, inplace=True)\n",
    "train['BsmtFinType1'].replace(to_replace='BLQ', value=4, inplace=True)\n",
    "train['BsmtFinType1'].replace(to_replace='ALQ', value=5, inplace=True)\n",
    "train['BsmtFinType1'].replace(to_replace='GLQ', value=6, inplace=True)\n",
    "\n",
    "test['BsmtFinType1'].replace(to_replace='NA', value=-1, inplace=True)\n",
    "test['BsmtFinType1'].replace(to_replace='Unf', value=0, inplace=True)\n",
    "test['BsmtFinType1'].replace(to_replace='Fa', value=1, inplace=True)\n",
    "test['BsmtFinType1'].replace(to_replace='LwQ', value=2, inplace=True)\n",
    "test['BsmtFinType1'].replace(to_replace='Rec', value=3, inplace=True)\n",
    "test['BsmtFinType1'].replace(to_replace='BLQ', value=4, inplace=True)\n",
    "test['BsmtFinType1'].replace(to_replace='ALQ', value=5, inplace=True)\n",
    "test['BsmtFinType1'].replace(to_replace='GLQ', value=6, inplace=True)"
   ]
  },
  {
   "cell_type": "code",
   "execution_count": 29,
   "metadata": {},
   "outputs": [],
   "source": [
    "train['BsmtFinType2'].replace(to_replace='NA', value=-1, inplace=True)\n",
    "train['BsmtFinType2'].replace(to_replace='Unf', value=0, inplace=True)\n",
    "train['BsmtFinType2'].replace(to_replace='Fa', value=1, inplace=True)\n",
    "train['BsmtFinType2'].replace(to_replace='LwQ', value=2, inplace=True)\n",
    "train['BsmtFinType2'].replace(to_replace='Rec', value=3, inplace=True)\n",
    "train['BsmtFinType2'].replace(to_replace='BLQ', value=4, inplace=True)\n",
    "train['BsmtFinType2'].replace(to_replace='ALQ', value=5, inplace=True)\n",
    "train['BsmtFinType2'].replace(to_replace='GLQ', value=6, inplace=True)\n",
    "\n",
    "test['BsmtFinType2'].replace(to_replace='NA', value=-1, inplace=True)\n",
    "test['BsmtFinType2'].replace(to_replace='Unf', value=0, inplace=True)\n",
    "test['BsmtFinType2'].replace(to_replace='Fa', value=1, inplace=True)\n",
    "test['BsmtFinType2'].replace(to_replace='LwQ', value=2, inplace=True)\n",
    "test['BsmtFinType2'].replace(to_replace='Rec', value=3, inplace=True)\n",
    "test['BsmtFinType2'].replace(to_replace='BLQ', value=4, inplace=True)\n",
    "test['BsmtFinType2'].replace(to_replace='ALQ', value=5, inplace=True)\n",
    "test['BsmtFinType2'].replace(to_replace='GLQ', value=6, inplace=True)"
   ]
  },
  {
   "cell_type": "code",
   "execution_count": 30,
   "metadata": {},
   "outputs": [],
   "source": [
    "train['HeatingQC'].replace(to_replace='Po', value=0, inplace=True)\n",
    "train['HeatingQC'].replace(to_replace='Fa', value=1, inplace=True)\n",
    "train['HeatingQC'].replace(to_replace='TA', value=2, inplace=True)\n",
    "train['HeatingQC'].replace(to_replace='Gd', value=3, inplace=True)\n",
    "train['HeatingQC'].replace(to_replace='Ex', value=4, inplace=True)\n",
    "\n",
    "test['HeatingQC'].replace(to_replace='Po', value=0, inplace=True)\n",
    "test['HeatingQC'].replace(to_replace='Fa', value=1, inplace=True)\n",
    "test['HeatingQC'].replace(to_replace='TA', value=2, inplace=True)\n",
    "test['HeatingQC'].replace(to_replace='Gd', value=3, inplace=True)\n",
    "test['HeatingQC'].replace(to_replace='Ex', value=4, inplace=True)"
   ]
  },
  {
   "cell_type": "code",
   "execution_count": 31,
   "metadata": {},
   "outputs": [],
   "source": [
    "train['CentralAir'].replace(to_replace='N', value=0, inplace=True)\n",
    "train['CentralAir'].replace(to_replace='Y', value=1, inplace=True)\n",
    "\n",
    "test['CentralAir'].replace(to_replace='N', value=0, inplace=True)\n",
    "test['CentralAir'].replace(to_replace='Y', value=1, inplace=True)"
   ]
  },
  {
   "cell_type": "code",
   "execution_count": 32,
   "metadata": {},
   "outputs": [],
   "source": [
    "train['KitchenQual'].replace(to_replace='Po', value=0, inplace=True)\n",
    "train['KitchenQual'].replace(to_replace='Fa', value=1, inplace=True)\n",
    "train['KitchenQual'].replace(to_replace='TA', value=2, inplace=True)\n",
    "train['KitchenQual'].replace(to_replace='Gd', value=3, inplace=True)\n",
    "train['KitchenQual'].replace(to_replace='Ex', value=4, inplace=True)\n",
    "\n",
    "test['KitchenQual'].replace(to_replace='Po', value=0, inplace=True)\n",
    "test['KitchenQual'].replace(to_replace='Fa', value=1, inplace=True)\n",
    "test['KitchenQual'].replace(to_replace='TA', value=2, inplace=True)\n",
    "test['KitchenQual'].replace(to_replace='Gd', value=3, inplace=True)\n",
    "test['KitchenQual'].replace(to_replace='Ex', value=4, inplace=True)"
   ]
  },
  {
   "cell_type": "code",
   "execution_count": 33,
   "metadata": {},
   "outputs": [],
   "source": [
    "train['Functional'].replace(to_replace='Sal', value=0, inplace=True)\n",
    "train['Functional'].replace(to_replace='Sev', value=1, inplace=True)\n",
    "train['Functional'].replace(to_replace='Maj2', value=2, inplace=True)\n",
    "train['Functional'].replace(to_replace='Maj1', value=3, inplace=True)\n",
    "train['Functional'].replace(to_replace='Mod', value=4, inplace=True)\n",
    "train['Functional'].replace(to_replace='Min2', value=5, inplace=True)\n",
    "train['Functional'].replace(to_replace='Min1', value=6, inplace=True)\n",
    "train['Functional'].replace(to_replace='Typ', value=7, inplace=True)\n",
    "\n",
    "\n",
    "test['Functional'].replace(to_replace='Sal', value=0, inplace=True)\n",
    "test['Functional'].replace(to_replace='Sev', value=1, inplace=True)\n",
    "test['Functional'].replace(to_replace='Maj2', value=2, inplace=True)\n",
    "test['Functional'].replace(to_replace='Maj1', value=3, inplace=True)\n",
    "test['Functional'].replace(to_replace='Mod', value=4, inplace=True)\n",
    "test['Functional'].replace(to_replace='Min2', value=5, inplace=True)\n",
    "test['Functional'].replace(to_replace='Min1', value=6, inplace=True)\n",
    "test['Functional'].replace(to_replace='Typ', value=7, inplace=True)"
   ]
  },
  {
   "cell_type": "code",
   "execution_count": 34,
   "metadata": {},
   "outputs": [],
   "source": [
    "train['GarageFinish'].replace(to_replace='NA', value=-1, inplace=True)\n",
    "train['GarageFinish'].replace(to_replace='Unf', value=0, inplace=True)\n",
    "train['GarageFinish'].replace(to_replace='RFn', value=1, inplace=True)\n",
    "train['GarageFinish'].replace(to_replace='Fin', value=2, inplace=True)\n",
    "\n",
    "test['GarageFinish'].replace(to_replace='NA', value=-1, inplace=True)\n",
    "test['GarageFinish'].replace(to_replace='Unf', value=0, inplace=True)\n",
    "test['GarageFinish'].replace(to_replace='RFn', value=1, inplace=True)\n",
    "test['GarageFinish'].replace(to_replace='Fin', value=2, inplace=True)"
   ]
  },
  {
   "cell_type": "code",
   "execution_count": 35,
   "metadata": {},
   "outputs": [],
   "source": [
    "train['GarageQual'].replace(to_replace='NA', value=-1, inplace=True)\n",
    "train['GarageQual'].replace(to_replace='Po', value=0, inplace=True)\n",
    "train['GarageQual'].replace(to_replace='Fa', value=1, inplace=True)\n",
    "train['GarageQual'].replace(to_replace='TA', value=2, inplace=True)\n",
    "train['GarageQual'].replace(to_replace='Gd', value=3, inplace=True)\n",
    "train['GarageQual'].replace(to_replace='Ex', value=4, inplace=True)\n",
    "\n",
    "test['GarageQual'].replace(to_replace='NA', value=-1, inplace=True)\n",
    "test['GarageQual'].replace(to_replace='Po', value=0, inplace=True)\n",
    "test['GarageQual'].replace(to_replace='Fa', value=1, inplace=True)\n",
    "test['GarageQual'].replace(to_replace='TA', value=2, inplace=True)\n",
    "test['GarageQual'].replace(to_replace='Gd', value=3, inplace=True)\n",
    "test['GarageQual'].replace(to_replace='Ex', value=4, inplace=True)"
   ]
  },
  {
   "cell_type": "code",
   "execution_count": 36,
   "metadata": {},
   "outputs": [],
   "source": [
    "train['GarageCond'].replace(to_replace='NA', value=-1, inplace=True)\n",
    "train['GarageCond'].replace(to_replace='Po', value=0, inplace=True)\n",
    "train['GarageCond'].replace(to_replace='Fa', value=1, inplace=True)\n",
    "train['GarageCond'].replace(to_replace='TA', value=2, inplace=True)\n",
    "train['GarageCond'].replace(to_replace='Gd', value=3, inplace=True)\n",
    "train['GarageCond'].replace(to_replace='Ex', value=4, inplace=True)\n",
    "\n",
    "test['GarageCond'].replace(to_replace='NA', value=-1, inplace=True)\n",
    "test['GarageCond'].replace(to_replace='Po', value=0, inplace=True)\n",
    "test['GarageCond'].replace(to_replace='Fa', value=1, inplace=True)\n",
    "test['GarageCond'].replace(to_replace='TA', value=2, inplace=True)\n",
    "test['GarageCond'].replace(to_replace='Gd', value=3, inplace=True)\n",
    "test['GarageCond'].replace(to_replace='Ex', value=4, inplace=True)"
   ]
  },
  {
   "cell_type": "code",
   "execution_count": 37,
   "metadata": {},
   "outputs": [],
   "source": [
    "train['PavedDrive'].replace(to_replace='N', value=0, inplace=True)\n",
    "train['PavedDrive'].replace(to_replace='P', value=1, inplace=True)\n",
    "train['PavedDrive'].replace(to_replace='Y', value=2, inplace=True)\n",
    "\n",
    "test['PavedDrive'].replace(to_replace='N', value=0, inplace=True)\n",
    "test['PavedDrive'].replace(to_replace='P', value=1, inplace=True)\n",
    "test['PavedDrive'].replace(to_replace='Y', value=2, inplace=True)"
   ]
  },
  {
   "source": [
    "Τωρα ξεκιναμε με τα One Hot:\n",
    "\n",
    "'MSSubClass'\n",
    "'MSZoning'\n",
    "'Neighborhood'\n",
    "'Condition1'\n",
    "'Condition2'\n",
    "'BldgType'\n",
    "'RoofStyle'\n",
    "'RoofMatl'\n",
    "'Exterior1st'\n",
    "'Exterior2nd'\n",
    "'MasVnrType'\n",
    "'Foundation'\n",
    "'Heating'\n",
    "'Electrical'\n",
    "'GarageType'\n",
    "'SaleType'\n",
    "'SaleCondition'"
   ],
   "cell_type": "markdown",
   "metadata": {}
  },
  {
   "cell_type": "code",
   "execution_count": 38,
   "metadata": {},
   "outputs": [],
   "source": [
    "MSSubClass_1hot = pd.get_dummies(train.MSSubClass)\n",
    "MSZoning_1hot = pd.get_dummies(train.MSZoning)\n",
    "Neighborhood_1hot = pd.get_dummies(train.Neighborhood)\n",
    "Condition1_1hot = pd.get_dummies(train.Condition1)\n",
    "Condition2_1hot = pd.get_dummies(train.Condition2)\n",
    "BldgType_1hot = pd.get_dummies(train.BldgType)\n",
    "RoofStyle_1hot = pd.get_dummies(train.RoofStyle)\n",
    "RoofMatl_1hot = pd.get_dummies(train.RoofMatl)\n",
    "Exterior1st_1hot = pd.get_dummies(train.Exterior1st)\n",
    "Exterior2nd_1hot = pd.get_dummies(train.Exterior2nd)\n",
    "MasVnrType_1hot = pd.get_dummies(train.MasVnrType)\n",
    "Foundation_1hot = pd.get_dummies(train.Foundation)\n",
    "Heating_1hot = pd.get_dummies(train.Heating)\n",
    "Electrical_1hot = pd.get_dummies(train.Electrical)\n",
    "GarageType_1hot = pd.get_dummies(train.GarageType)\n",
    "SaleType_1hot = pd.get_dummies(train.SaleType)\n",
    "SaleCondition_1hot = pd.get_dummies(train.SaleCondition)"
   ]
  },
  {
   "cell_type": "code",
   "execution_count": 39,
   "metadata": {},
   "outputs": [],
   "source": [
    "test_MSSubClass_1hot = pd.get_dummies(test.MSSubClass)\n",
    "test_MSZoning_1hot = pd.get_dummies(test.MSZoning)\n",
    "test_Neighborhood_1hot = pd.get_dummies(test.Neighborhood)\n",
    "test_Condition1_1hot = pd.get_dummies(test.Condition1)\n",
    "test_Condition2_1hot = pd.get_dummies(test.Condition2)\n",
    "test_BldgType_1hot = pd.get_dummies(test.BldgType)\n",
    "test_RoofStyle_1hot = pd.get_dummies(test.RoofStyle)\n",
    "test_RoofMatl_1hot = pd.get_dummies(test.RoofMatl)\n",
    "test_Exterior1st_1hot = pd.get_dummies(test.Exterior1st)\n",
    "test_Exterior2nd_1hot = pd.get_dummies(test.Exterior2nd)\n",
    "test_MasVnrType_1hot = pd.get_dummies(test.MasVnrType)\n",
    "test_Foundation_1hot = pd.get_dummies(test.Foundation)\n",
    "test_Heating_1hot = pd.get_dummies(test.Heating)\n",
    "test_Electrical_1hot = pd.get_dummies(test.Electrical)\n",
    "test_GarageType_1hot = pd.get_dummies(test.GarageType)\n",
    "test_SaleType_1hot = pd.get_dummies(test.SaleType)\n",
    "test_SaleCondition_1hot = pd.get_dummies(test.SaleCondition)"
   ]
  },
  {
   "cell_type": "code",
   "execution_count": 40,
   "metadata": {},
   "outputs": [],
   "source": [
    "train = pd.concat([train, MSSubClass_1hot], axis=1)\n",
    "train = pd.concat([train, MSZoning_1hot], axis=1)\n",
    "train = pd.concat([train, Neighborhood_1hot], axis=1)\n",
    "train = pd.concat([train, Condition1_1hot], axis=1)\n",
    "train = pd.concat([train, Condition2_1hot], axis=1)\n",
    "train = pd.concat([train, BldgType_1hot], axis=1)\n",
    "train = pd.concat([train, RoofStyle_1hot], axis=1)\n",
    "train = pd.concat([train, RoofMatl_1hot], axis=1)\n",
    "train = pd.concat([train, Exterior1st_1hot], axis=1)\n",
    "train = pd.concat([train, Exterior2nd_1hot], axis=1)\n",
    "train = pd.concat([train, MasVnrType_1hot], axis=1)\n",
    "train = pd.concat([train, Foundation_1hot], axis=1)\n",
    "train = pd.concat([train, Heating_1hot], axis=1)\n",
    "train = pd.concat([train, Electrical_1hot], axis=1)\n",
    "train = pd.concat([train, GarageType_1hot], axis=1)\n",
    "train = pd.concat([train, SaleType_1hot], axis=1)\n",
    "train = pd.concat([train, SaleCondition_1hot], axis=1)"
   ]
  },
  {
   "cell_type": "code",
   "execution_count": 41,
   "metadata": {},
   "outputs": [],
   "source": [
    "test = pd.concat([test, test_MSSubClass_1hot], axis=1)\n",
    "test = pd.concat([test, test_MSZoning_1hot], axis=1)\n",
    "test = pd.concat([test, test_Neighborhood_1hot], axis=1)\n",
    "test = pd.concat([test, test_Condition1_1hot], axis=1)\n",
    "test = pd.concat([test, test_Condition2_1hot], axis=1)\n",
    "test = pd.concat([test, test_BldgType_1hot], axis=1)\n",
    "test = pd.concat([test, test_RoofStyle_1hot], axis=1)\n",
    "test = pd.concat([test, test_RoofMatl_1hot], axis=1)\n",
    "test = pd.concat([test, test_Exterior1st_1hot], axis=1)\n",
    "test = pd.concat([test, test_Exterior2nd_1hot], axis=1)\n",
    "test = pd.concat([test, test_MasVnrType_1hot], axis=1)\n",
    "test = pd.concat([test, test_Foundation_1hot], axis=1)\n",
    "test = pd.concat([test, test_Heating_1hot], axis=1)\n",
    "test = pd.concat([test, test_Electrical_1hot], axis=1)\n",
    "test = pd.concat([test, test_GarageType_1hot], axis=1)\n",
    "test = pd.concat([test, test_SaleType_1hot], axis=1)\n",
    "test = pd.concat([test, test_SaleCondition_1hot], axis=1)"
   ]
  },
  {
   "cell_type": "code",
   "execution_count": 42,
   "metadata": {},
   "outputs": [],
   "source": [
    "train = train.drop(columns=['MSSubClass', 'MSZoning', 'Neighborhood', 'Condition1', 'Condition2', 'BldgType', 'RoofStyle', 'RoofMatl', 'Exterior1st', 'Exterior2nd', 'MasVnrType', 'Foundation', 'Heating', 'Electrical', 'GarageType', 'SaleType', 'SaleCondition'])"
   ]
  },
  {
   "cell_type": "code",
   "execution_count": 43,
   "metadata": {},
   "outputs": [],
   "source": [
    "test = test.drop(columns=['MSSubClass', 'MSZoning', 'Neighborhood', 'Condition1', 'Condition2', 'BldgType', 'RoofStyle', 'RoofMatl', 'Exterior1st', 'Exterior2nd', 'MasVnrType', 'Foundation', 'Heating', 'Electrical', 'GarageType', 'SaleType', 'SaleCondition'])"
   ]
  },
  {
   "cell_type": "code",
   "execution_count": 44,
   "metadata": {},
   "outputs": [
    {
     "output_type": "execute_result",
     "data": {
      "text/plain": [
       "             LotArea       Street     LotShape  LandContour    Utilities  \\\n",
       "count    1338.000000  1338.000000  1338.000000  1338.000000  1338.000000   \n",
       "mean    10706.294469     0.996263     2.574738     2.817638     2.998505   \n",
       "std     10336.621126     0.061039     0.591024     0.603842     0.054677   \n",
       "min      1300.000000     0.000000     0.000000     0.000000     1.000000   \n",
       "25%      7744.000000     1.000000     2.000000     3.000000     3.000000   \n",
       "50%      9600.000000     1.000000     3.000000     3.000000     3.000000   \n",
       "75%     11760.750000     1.000000     3.000000     3.000000     3.000000   \n",
       "max    215245.000000     1.000000     3.000000     3.000000     3.000000   \n",
       "\n",
       "         LandSlope  OverallQual  OverallCond    YearBuilt  YearRemodAdd  ...  \\\n",
       "count  1338.000000  1338.000000  1338.000000  1338.000000   1338.000000  ...   \n",
       "mean      1.936472     6.219731     5.596413  1973.029148   1985.668909  ...   \n",
       "std       0.278365     1.324472     1.078124    29.563540     20.296463  ...   \n",
       "min       0.000000     2.000000     2.000000  1880.000000   1950.000000  ...   \n",
       "25%       2.000000     5.000000     5.000000  1956.000000   1968.000000  ...   \n",
       "50%       2.000000     6.000000     5.000000  1976.000000   1994.500000  ...   \n",
       "75%       2.000000     7.000000     6.000000  2001.000000   2004.000000  ...   \n",
       "max       2.000000    10.000000     9.000000  2010.000000   2010.000000  ...   \n",
       "\n",
       "             ConLw          New          Oth           WD      Abnorml  \\\n",
       "count  1338.000000  1338.000000  1338.000000  1338.000000  1338.000000   \n",
       "mean      0.002990     0.087444     0.000747     0.865471     0.064275   \n",
       "std       0.054615     0.282590     0.027338     0.341348     0.245334   \n",
       "min       0.000000     0.000000     0.000000     0.000000     0.000000   \n",
       "25%       0.000000     0.000000     0.000000     1.000000     0.000000   \n",
       "50%       0.000000     0.000000     0.000000     1.000000     0.000000   \n",
       "75%       0.000000     0.000000     0.000000     1.000000     0.000000   \n",
       "max       1.000000     1.000000     1.000000     1.000000     1.000000   \n",
       "\n",
       "           AdjLand       Alloca       Family       Normal      Partial  \n",
       "count  1338.000000  1338.000000  1338.000000  1338.000000  1338.000000  \n",
       "mean      0.000747     0.005232     0.014948     0.825112     0.089686  \n",
       "std       0.027338     0.072168     0.121389     0.380013     0.285838  \n",
       "min       0.000000     0.000000     0.000000     0.000000     0.000000  \n",
       "25%       0.000000     0.000000     0.000000     1.000000     0.000000  \n",
       "50%       0.000000     0.000000     0.000000     1.000000     0.000000  \n",
       "75%       0.000000     0.000000     0.000000     1.000000     0.000000  \n",
       "max       1.000000     1.000000     1.000000     1.000000     1.000000  \n",
       "\n",
       "[8 rows x 205 columns]"
      ],
      "text/html": "<div>\n<style scoped>\n    .dataframe tbody tr th:only-of-type {\n        vertical-align: middle;\n    }\n\n    .dataframe tbody tr th {\n        vertical-align: top;\n    }\n\n    .dataframe thead th {\n        text-align: right;\n    }\n</style>\n<table border=\"1\" class=\"dataframe\">\n  <thead>\n    <tr style=\"text-align: right;\">\n      <th></th>\n      <th>LotArea</th>\n      <th>Street</th>\n      <th>LotShape</th>\n      <th>LandContour</th>\n      <th>Utilities</th>\n      <th>LandSlope</th>\n      <th>OverallQual</th>\n      <th>OverallCond</th>\n      <th>YearBuilt</th>\n      <th>YearRemodAdd</th>\n      <th>...</th>\n      <th>ConLw</th>\n      <th>New</th>\n      <th>Oth</th>\n      <th>WD</th>\n      <th>Abnorml</th>\n      <th>AdjLand</th>\n      <th>Alloca</th>\n      <th>Family</th>\n      <th>Normal</th>\n      <th>Partial</th>\n    </tr>\n  </thead>\n  <tbody>\n    <tr>\n      <th>count</th>\n      <td>1338.000000</td>\n      <td>1338.000000</td>\n      <td>1338.000000</td>\n      <td>1338.000000</td>\n      <td>1338.000000</td>\n      <td>1338.000000</td>\n      <td>1338.000000</td>\n      <td>1338.000000</td>\n      <td>1338.000000</td>\n      <td>1338.000000</td>\n      <td>...</td>\n      <td>1338.000000</td>\n      <td>1338.000000</td>\n      <td>1338.000000</td>\n      <td>1338.000000</td>\n      <td>1338.000000</td>\n      <td>1338.000000</td>\n      <td>1338.000000</td>\n      <td>1338.000000</td>\n      <td>1338.000000</td>\n      <td>1338.000000</td>\n    </tr>\n    <tr>\n      <th>mean</th>\n      <td>10706.294469</td>\n      <td>0.996263</td>\n      <td>2.574738</td>\n      <td>2.817638</td>\n      <td>2.998505</td>\n      <td>1.936472</td>\n      <td>6.219731</td>\n      <td>5.596413</td>\n      <td>1973.029148</td>\n      <td>1985.668909</td>\n      <td>...</td>\n      <td>0.002990</td>\n      <td>0.087444</td>\n      <td>0.000747</td>\n      <td>0.865471</td>\n      <td>0.064275</td>\n      <td>0.000747</td>\n      <td>0.005232</td>\n      <td>0.014948</td>\n      <td>0.825112</td>\n      <td>0.089686</td>\n    </tr>\n    <tr>\n      <th>std</th>\n      <td>10336.621126</td>\n      <td>0.061039</td>\n      <td>0.591024</td>\n      <td>0.603842</td>\n      <td>0.054677</td>\n      <td>0.278365</td>\n      <td>1.324472</td>\n      <td>1.078124</td>\n      <td>29.563540</td>\n      <td>20.296463</td>\n      <td>...</td>\n      <td>0.054615</td>\n      <td>0.282590</td>\n      <td>0.027338</td>\n      <td>0.341348</td>\n      <td>0.245334</td>\n      <td>0.027338</td>\n      <td>0.072168</td>\n      <td>0.121389</td>\n      <td>0.380013</td>\n      <td>0.285838</td>\n    </tr>\n    <tr>\n      <th>min</th>\n      <td>1300.000000</td>\n      <td>0.000000</td>\n      <td>0.000000</td>\n      <td>0.000000</td>\n      <td>1.000000</td>\n      <td>0.000000</td>\n      <td>2.000000</td>\n      <td>2.000000</td>\n      <td>1880.000000</td>\n      <td>1950.000000</td>\n      <td>...</td>\n      <td>0.000000</td>\n      <td>0.000000</td>\n      <td>0.000000</td>\n      <td>0.000000</td>\n      <td>0.000000</td>\n      <td>0.000000</td>\n      <td>0.000000</td>\n      <td>0.000000</td>\n      <td>0.000000</td>\n      <td>0.000000</td>\n    </tr>\n    <tr>\n      <th>25%</th>\n      <td>7744.000000</td>\n      <td>1.000000</td>\n      <td>2.000000</td>\n      <td>3.000000</td>\n      <td>3.000000</td>\n      <td>2.000000</td>\n      <td>5.000000</td>\n      <td>5.000000</td>\n      <td>1956.000000</td>\n      <td>1968.000000</td>\n      <td>...</td>\n      <td>0.000000</td>\n      <td>0.000000</td>\n      <td>0.000000</td>\n      <td>1.000000</td>\n      <td>0.000000</td>\n      <td>0.000000</td>\n      <td>0.000000</td>\n      <td>0.000000</td>\n      <td>1.000000</td>\n      <td>0.000000</td>\n    </tr>\n    <tr>\n      <th>50%</th>\n      <td>9600.000000</td>\n      <td>1.000000</td>\n      <td>3.000000</td>\n      <td>3.000000</td>\n      <td>3.000000</td>\n      <td>2.000000</td>\n      <td>6.000000</td>\n      <td>5.000000</td>\n      <td>1976.000000</td>\n      <td>1994.500000</td>\n      <td>...</td>\n      <td>0.000000</td>\n      <td>0.000000</td>\n      <td>0.000000</td>\n      <td>1.000000</td>\n      <td>0.000000</td>\n      <td>0.000000</td>\n      <td>0.000000</td>\n      <td>0.000000</td>\n      <td>1.000000</td>\n      <td>0.000000</td>\n    </tr>\n    <tr>\n      <th>75%</th>\n      <td>11760.750000</td>\n      <td>1.000000</td>\n      <td>3.000000</td>\n      <td>3.000000</td>\n      <td>3.000000</td>\n      <td>2.000000</td>\n      <td>7.000000</td>\n      <td>6.000000</td>\n      <td>2001.000000</td>\n      <td>2004.000000</td>\n      <td>...</td>\n      <td>0.000000</td>\n      <td>0.000000</td>\n      <td>0.000000</td>\n      <td>1.000000</td>\n      <td>0.000000</td>\n      <td>0.000000</td>\n      <td>0.000000</td>\n      <td>0.000000</td>\n      <td>1.000000</td>\n      <td>0.000000</td>\n    </tr>\n    <tr>\n      <th>max</th>\n      <td>215245.000000</td>\n      <td>1.000000</td>\n      <td>3.000000</td>\n      <td>3.000000</td>\n      <td>3.000000</td>\n      <td>2.000000</td>\n      <td>10.000000</td>\n      <td>9.000000</td>\n      <td>2010.000000</td>\n      <td>2010.000000</td>\n      <td>...</td>\n      <td>1.000000</td>\n      <td>1.000000</td>\n      <td>1.000000</td>\n      <td>1.000000</td>\n      <td>1.000000</td>\n      <td>1.000000</td>\n      <td>1.000000</td>\n      <td>1.000000</td>\n      <td>1.000000</td>\n      <td>1.000000</td>\n    </tr>\n  </tbody>\n</table>\n<p>8 rows × 205 columns</p>\n</div>"
     },
     "metadata": {},
     "execution_count": 44
    }
   ],
   "source": [
    "train.describe()"
   ]
  },
  {
   "cell_type": "code",
   "execution_count": 45,
   "metadata": {},
   "outputs": [],
   "source": [
    "from sklearn.model_selection import train_test_split\n",
    "X, y = train.drop(columns=['SalePrice']), train['SalePrice']\n",
    "X_train, X_test, y_train, y_test = train_test_split(X, y, test_size=0.2)"
   ]
  },
  {
   "cell_type": "code",
   "execution_count": 46,
   "metadata": {},
   "outputs": [],
   "source": [
    "from sklearn.preprocessing import StandardScaler\n",
    "\n",
    "scaler = StandardScaler()\n",
    "X_train_scaled = scaler.fit_transform(X_train)\n",
    "X_test_scaled = scaler.fit_transform(X_test)"
   ]
  },
  {
   "cell_type": "code",
   "execution_count": 47,
   "metadata": {},
   "outputs": [],
   "source": [
    "from sklearn.linear_model import LinearRegression\n",
    "from sklearn.metrics import mean_squared_error\n",
    "\n",
    "lin_reg = LinearRegression()\n",
    "\n",
    "lin_reg.fit(X_train_scaled, y_train)\n",
    "lin_reg_predictions = lin_reg.predict(X_test_scaled)\n",
    "lin_reg_mse = mean_squared_error(lin_reg_predictions, y_test)"
   ]
  },
  {
   "cell_type": "code",
   "execution_count": 48,
   "metadata": {},
   "outputs": [
    {
     "output_type": "stream",
     "name": "stdout",
     "text": [
      "3.553179340861086e+33\n"
     ]
    }
   ],
   "source": [
    "print(lin_reg_mse)"
   ]
  },
  {
   "cell_type": "code",
   "execution_count": 49,
   "metadata": {},
   "outputs": [
    {
     "output_type": "stream",
     "name": "stdout",
     "text": [
      "4.236981068426539e+38\n"
     ]
    }
   ],
   "source": [
    "lin_reg_unscaled = LinearRegression()\n",
    "\n",
    "lin_reg_unscaled.fit(X_train, y_train)\n",
    "lin_reg_unscaled_predictions = lin_reg.predict(X_test)\n",
    "lin_reg_unscaled_mse = mean_squared_error(lin_reg_unscaled_predictions, y_test)\n",
    "print(lin_reg_unscaled_mse)"
   ]
  },
  {
   "source": [
    "## Πρεπει να κάνουμε mini batch... αλλά δεν υπάρχει έτοιμο, οπότε αύριο"
   ],
   "cell_type": "markdown",
   "metadata": {}
  },
  {
   "cell_type": "code",
   "execution_count": 50,
   "metadata": {},
   "outputs": [],
   "source": [
    "from sklearn.decomposition import PCA\n",
    "\n",
    "pca = PCA(n_components=50)\n",
    "X_train_scaled_reduced = pca.fit_transform(X_train_scaled)\n",
    "X_test_scaled_reduced = pca.transform(X_test_scaled)"
   ]
  },
  {
   "cell_type": "code",
   "execution_count": 51,
   "metadata": {},
   "outputs": [
    {
     "output_type": "stream",
     "name": "stdout",
     "text": [
      "133837365280037.08\n"
     ]
    }
   ],
   "source": [
    "from sklearn.preprocessing import PolynomialFeatures\n",
    "from sklearn.linear_model import SGDRegressor\n",
    "\n",
    "poly_features = PolynomialFeatures(degree=2)\n",
    "X_train_scaled_reduced_poly = poly_features.fit_transform(X_train_scaled_reduced)\n",
    "X_test_scaled_reduced_poly = poly_features.fit_transform(X_test_scaled_reduced)\n",
    "\n",
    "sgd_reg = SGDRegressor(max_iter=1000, tol=100, eta0=0.1)\n",
    "sgd_reg.fit(X_train_scaled_reduced_poly, y_train)\n",
    "sgd_poly_pred = sgd_reg.predict(X_test_scaled_reduced_poly)\n",
    "sgd_poly_mse = mean_squared_error(sgd_poly_pred, y_test)\n",
    "print(np.sqrt(sgd_poly_mse))"
   ]
  },
  {
   "cell_type": "code",
   "execution_count": null,
   "metadata": {},
   "outputs": [],
   "source": []
  }
 ]
}
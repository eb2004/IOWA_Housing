{
 "metadata": {
  "language_info": {
   "codemirror_mode": {
    "name": "ipython",
    "version": 3
   },
   "file_extension": ".py",
   "mimetype": "text/x-python",
   "name": "python",
   "nbconvert_exporter": "python",
   "pygments_lexer": "ipython3",
   "version": "3.8.0"
  },
  "orig_nbformat": 2,
  "kernelspec": {
   "name": "python380jvsc74a57bd05feb23d9b6f3d2f97e54f914d0941da191233d8fb5561e2f0cb42259e062b7b7",
   "display_name": "Python 3.8.0 64-bit"
  }
 },
 "nbformat": 4,
 "nbformat_minor": 2,
 "cells": [
  {
   "cell_type": "code",
   "execution_count": 14,
   "metadata": {},
   "outputs": [],
   "source": [
    "import numpy as np\n",
    "import pandas as pd\n",
    "import os\n",
    "import tarfile\n",
    "import io\n",
    "import matplotlib\n",
    "import matplotlib.pyplot as plt\n",
    "from pandas.plotting import scatter_matrix\n",
    "from sklearn.model_selection import train_test_split\n",
    "from sklearn.linear_model import LogisticRegression\n",
    "from sklearn.metrics import confusion_matrix, precision_score, recall_score, f1_score\n",
    "from sklearn.preprocessing import OrdinalEncoder"
   ]
  },
  {
   "cell_type": "code",
   "execution_count": 15,
   "metadata": {},
   "outputs": [],
   "source": [
    "train = pd.read_csv('train.csv')\n",
    "test = pd.read_csv('test.csv')\n",
    "sample_submission = pd.read_csv('sample_submission.csv')"
   ]
  },
  {
   "cell_type": "code",
   "execution_count": 16,
   "metadata": {},
   "outputs": [
    {
     "output_type": "stream",
     "name": "stdout",
     "text": [
      "attribute  0 named  Id missing count:  0\nattribute  1 named  MSSubClass missing count:  0\nattribute  2 named  MSZoning missing count:  0\nattribute  3 named  LotFrontage missing count:  259\nattribute  4 named  LotArea missing count:  0\nattribute  5 named  Street missing count:  0\nattribute  6 named  Alley missing count:  1369\nattribute  7 named  LotShape missing count:  0\nattribute  8 named  LandContour missing count:  0\nattribute  9 named  Utilities missing count:  0\nattribute  10 named  LotConfig missing count:  0\nattribute  11 named  LandSlope missing count:  0\nattribute  12 named  Neighborhood missing count:  0\nattribute  13 named  Condition1 missing count:  0\nattribute  14 named  Condition2 missing count:  0\nattribute  15 named  BldgType missing count:  0\nattribute  16 named  HouseStyle missing count:  0\nattribute  17 named  OverallQual missing count:  0\nattribute  18 named  OverallCond missing count:  0\nattribute  19 named  YearBuilt missing count:  0\nattribute  20 named  YearRemodAdd missing count:  0\nattribute  21 named  RoofStyle missing count:  0\nattribute  22 named  RoofMatl missing count:  0\nattribute  23 named  Exterior1st missing count:  0\nattribute  24 named  Exterior2nd missing count:  0\nattribute  25 named  MasVnrType missing count:  8\nattribute  26 named  MasVnrArea missing count:  8\nattribute  27 named  ExterQual missing count:  0\nattribute  28 named  ExterCond missing count:  0\nattribute  29 named  Foundation missing count:  0\nattribute  30 named  BsmtQual missing count:  37\nattribute  31 named  BsmtCond missing count:  37\nattribute  32 named  BsmtExposure missing count:  38\nattribute  33 named  BsmtFinType1 missing count:  37\nattribute  34 named  BsmtFinSF1 missing count:  0\nattribute  35 named  BsmtFinType2 missing count:  38\nattribute  36 named  BsmtFinSF2 missing count:  0\nattribute  37 named  BsmtUnfSF missing count:  0\nattribute  38 named  TotalBsmtSF missing count:  0\nattribute  39 named  Heating missing count:  0\nattribute  40 named  HeatingQC missing count:  0\nattribute  41 named  CentralAir missing count:  0\nattribute  42 named  Electrical missing count:  1\nattribute  43 named  1stFlrSF missing count:  0\nattribute  44 named  2ndFlrSF missing count:  0\nattribute  45 named  LowQualFinSF missing count:  0\nattribute  46 named  GrLivArea missing count:  0\nattribute  47 named  BsmtFullBath missing count:  0\nattribute  48 named  BsmtHalfBath missing count:  0\nattribute  49 named  FullBath missing count:  0\nattribute  50 named  HalfBath missing count:  0\nattribute  51 named  BedroomAbvGr missing count:  0\nattribute  52 named  KitchenAbvGr missing count:  0\nattribute  53 named  KitchenQual missing count:  0\nattribute  54 named  TotRmsAbvGrd missing count:  0\nattribute  55 named  Functional missing count:  0\nattribute  56 named  Fireplaces missing count:  0\nattribute  57 named  FireplaceQu missing count:  690\nattribute  58 named  GarageType missing count:  81\nattribute  59 named  GarageYrBlt missing count:  81\nattribute  60 named  GarageFinish missing count:  81\nattribute  61 named  GarageCars missing count:  0\nattribute  62 named  GarageArea missing count:  0\nattribute  63 named  GarageQual missing count:  81\nattribute  64 named  GarageCond missing count:  81\nattribute  65 named  PavedDrive missing count:  0\nattribute  66 named  WoodDeckSF missing count:  0\nattribute  67 named  OpenPorchSF missing count:  0\nattribute  68 named  EnclosedPorch missing count:  0\nattribute  69 named  3SsnPorch missing count:  0\nattribute  70 named  ScreenPorch missing count:  0\nattribute  71 named  PoolArea missing count:  0\nattribute  72 named  PoolQC missing count:  1453\nattribute  73 named  Fence missing count:  1179\nattribute  74 named  MiscFeature missing count:  1406\nattribute  75 named  MiscVal missing count:  0\nattribute  76 named  MoSold missing count:  0\nattribute  77 named  YrSold missing count:  0\nattribute  78 named  SaleType missing count:  0\nattribute  79 named  SaleCondition missing count:  0\nattribute  80 named  SalePrice missing count:  0\n"
     ]
    }
   ],
   "source": [
    "i=0\n",
    "for column in train:\n",
    "  print(\"attribute \", i, \"named \", column, \"missing count: \", train[column].isna().sum())\n",
    "  i += 1"
   ]
  },
  {
   "cell_type": "code",
   "execution_count": 17,
   "metadata": {},
   "outputs": [],
   "source": [
    "train = train.drop(columns=['LotFrontage','Alley', 'FireplaceQu', 'PoolQC', 'Fence', 'MiscFeature'])\n",
    "test = test.drop(columns=['LotFrontage','Alley', 'FireplaceQu', 'PoolQC', 'Fence', 'MiscFeature'])"
   ]
  },
  {
   "cell_type": "code",
   "execution_count": 18,
   "metadata": {},
   "outputs": [
    {
     "output_type": "stream",
     "name": "stdout",
     "text": [
      "attribute  0 named  Id missing count:  0\nattribute  1 named  MSSubClass missing count:  0\nattribute  2 named  MSZoning missing count:  0\nattribute  3 named  LotArea missing count:  0\nattribute  4 named  Street missing count:  0\nattribute  5 named  LotShape missing count:  0\nattribute  6 named  LandContour missing count:  0\nattribute  7 named  Utilities missing count:  0\nattribute  8 named  LotConfig missing count:  0\nattribute  9 named  LandSlope missing count:  0\nattribute  10 named  Neighborhood missing count:  0\nattribute  11 named  Condition1 missing count:  0\nattribute  12 named  Condition2 missing count:  0\nattribute  13 named  BldgType missing count:  0\nattribute  14 named  HouseStyle missing count:  0\nattribute  15 named  OverallQual missing count:  0\nattribute  16 named  OverallCond missing count:  0\nattribute  17 named  YearBuilt missing count:  0\nattribute  18 named  YearRemodAdd missing count:  0\nattribute  19 named  RoofStyle missing count:  0\nattribute  20 named  RoofMatl missing count:  0\nattribute  21 named  Exterior1st missing count:  0\nattribute  22 named  Exterior2nd missing count:  0\nattribute  23 named  MasVnrType missing count:  0\nattribute  24 named  MasVnrArea missing count:  0\nattribute  25 named  ExterQual missing count:  0\nattribute  26 named  ExterCond missing count:  0\nattribute  27 named  Foundation missing count:  0\nattribute  28 named  BsmtQual missing count:  0\nattribute  29 named  BsmtCond missing count:  0\nattribute  30 named  BsmtExposure missing count:  0\nattribute  31 named  BsmtFinType1 missing count:  0\nattribute  32 named  BsmtFinSF1 missing count:  0\nattribute  33 named  BsmtFinType2 missing count:  0\nattribute  34 named  BsmtFinSF2 missing count:  0\nattribute  35 named  BsmtUnfSF missing count:  0\nattribute  36 named  TotalBsmtSF missing count:  0\nattribute  37 named  Heating missing count:  0\nattribute  38 named  HeatingQC missing count:  0\nattribute  39 named  CentralAir missing count:  0\nattribute  40 named  Electrical missing count:  0\nattribute  41 named  1stFlrSF missing count:  0\nattribute  42 named  2ndFlrSF missing count:  0\nattribute  43 named  LowQualFinSF missing count:  0\nattribute  44 named  GrLivArea missing count:  0\nattribute  45 named  BsmtFullBath missing count:  0\nattribute  46 named  BsmtHalfBath missing count:  0\nattribute  47 named  FullBath missing count:  0\nattribute  48 named  HalfBath missing count:  0\nattribute  49 named  BedroomAbvGr missing count:  0\nattribute  50 named  KitchenAbvGr missing count:  0\nattribute  51 named  KitchenQual missing count:  0\nattribute  52 named  TotRmsAbvGrd missing count:  0\nattribute  53 named  Functional missing count:  0\nattribute  54 named  Fireplaces missing count:  0\nattribute  55 named  GarageType missing count:  0\nattribute  56 named  GarageYrBlt missing count:  0\nattribute  57 named  GarageFinish missing count:  0\nattribute  58 named  GarageCars missing count:  0\nattribute  59 named  GarageArea missing count:  0\nattribute  60 named  GarageQual missing count:  0\nattribute  61 named  GarageCond missing count:  0\nattribute  62 named  PavedDrive missing count:  0\nattribute  63 named  WoodDeckSF missing count:  0\nattribute  64 named  OpenPorchSF missing count:  0\nattribute  65 named  EnclosedPorch missing count:  0\nattribute  66 named  3SsnPorch missing count:  0\nattribute  67 named  ScreenPorch missing count:  0\nattribute  68 named  PoolArea missing count:  0\nattribute  69 named  MiscVal missing count:  0\nattribute  70 named  MoSold missing count:  0\nattribute  71 named  YrSold missing count:  0\nattribute  72 named  SaleType missing count:  0\nattribute  73 named  SaleCondition missing count:  0\nattribute  74 named  SalePrice missing count:  0\n"
     ]
    }
   ],
   "source": [
    "train = train.dropna(subset=['MasVnrType', 'Electrical', 'BsmtFinType2', 'BsmtExposure', 'GarageCond'])\n",
    "i=0\n",
    "for column in train:\n",
    "  print(\"attribute \", i, \"named \", column, \"missing count: \", train[column].isna().sum())\n",
    "  i += 1"
   ]
  },
  {
   "cell_type": "code",
   "execution_count": 19,
   "metadata": {},
   "outputs": [
    {
     "output_type": "stream",
     "name": "stdout",
     "text": [
      "1338\n"
     ]
    }
   ],
   "source": [
    "print(len(train['Id']))"
   ]
  },
  {
   "cell_type": "code",
   "execution_count": 20,
   "metadata": {},
   "outputs": [],
   "source": [
    "train = train.drop(columns=['Id'])\n",
    "test = test.drop(columns=['Id'])"
   ]
  },
  {
   "cell_type": "code",
   "execution_count": 21,
   "metadata": {},
   "outputs": [
    {
     "output_type": "execute_result",
     "data": {
      "text/plain": [
       "0    60\n",
       "1    20\n",
       "2    60\n",
       "3    70\n",
       "4    60\n",
       "Name: MSSubClass, dtype: int64"
      ]
     },
     "metadata": {},
     "execution_count": 21
    }
   ],
   "source": [
    "train['MSSubClass'].head()"
   ]
  },
  {
   "cell_type": "code",
   "execution_count": 22,
   "metadata": {},
   "outputs": [
    {
     "output_type": "execute_result",
     "data": {
      "text/plain": [
       "pandas.core.series.Series"
      ]
     },
     "metadata": {},
     "execution_count": 22
    }
   ],
   "source": [
    "type(train['LotShape'])"
   ]
  },
  {
   "cell_type": "code",
   "execution_count": 23,
   "metadata": {},
   "outputs": [],
   "source": [
    "train['LotShape'].replace(to_replace='IR3', value=0, inplace=True)"
   ]
  },
  {
   "cell_type": "code",
   "execution_count": 24,
   "metadata": {},
   "outputs": [],
   "source": [
    "train['LotShape'].replace(to_replace='IR2', value=1, inplace=True)\n",
    "train['LotShape'].replace(to_replace='IR1', value=2, inplace=True)\n",
    "train['LotShape'].replace(to_replace='Reg', value=3, inplace=True)"
   ]
  },
  {
   "cell_type": "code",
   "execution_count": 25,
   "metadata": {},
   "outputs": [],
   "source": [
    "test['LotShape'].replace(to_replace='IR3', value=0, inplace=True)\n",
    "test['LotShape'].replace(to_replace='IR2', value=1, inplace=True)\n",
    "test['LotShape'].replace(to_replace='IR1', value=2, inplace=True)\n",
    "test['LotShape'].replace(to_replace='Reg', value=3, inplace=True)"
   ]
  },
  {
   "cell_type": "code",
   "execution_count": 26,
   "metadata": {},
   "outputs": [
    {
     "output_type": "execute_result",
     "data": {
      "text/plain": [
       "0    3\n",
       "1    3\n",
       "2    2\n",
       "3    2\n",
       "4    2\n",
       "Name: LotShape, dtype: int64"
      ]
     },
     "metadata": {},
     "execution_count": 26
    }
   ],
   "source": [
    "train['LotShape'].head()"
   ]
  },
  {
   "cell_type": "code",
   "execution_count": 27,
   "metadata": {},
   "outputs": [],
   "source": [
    "train['Street'].replace(to_replace='Grvl', value=0, inplace=True)\n",
    "train['Street'].replace(to_replace='Pave', value=1, inplace=True)"
   ]
  },
  {
   "cell_type": "code",
   "execution_count": 28,
   "metadata": {},
   "outputs": [],
   "source": [
    "test['Street'].replace(to_replace='Grvl', value=0, inplace=True)\n",
    "test['Street'].replace(to_replace='Pave', value=1, inplace=True)"
   ]
  },
  {
   "cell_type": "code",
   "execution_count": 29,
   "metadata": {},
   "outputs": [],
   "source": [
    "train['LandContour'].replace(to_replace='Low', value=0, inplace=True)\n",
    "train['LandContour'].replace(to_replace='HLS', value=1, inplace=True)\n",
    "train['LandContour'].replace(to_replace='Bnk', value=2, inplace=True)\n",
    "train['LandContour'].replace(to_replace='Lvl', value=3, inplace=True)"
   ]
  },
  {
   "cell_type": "code",
   "execution_count": 30,
   "metadata": {},
   "outputs": [],
   "source": [
    "train['Utilities'].replace(to_replace='ELO', value=0, inplace=True)\n",
    "train['Utilities'].replace(to_replace='NoSewa', value=1, inplace=True)\n",
    "train['Utilities'].replace(to_replace='NoSewr', value=2, inplace=True)\n",
    "train['Utilities'].replace(to_replace='AllPub', value=3, inplace=True)\n"
   ]
  },
  {
   "cell_type": "code",
   "execution_count": 31,
   "metadata": {},
   "outputs": [],
   "source": [
    "test['LandContour'].replace(to_replace='Low', value=0, inplace=True)\n",
    "test['LandContour'].replace(to_replace='HLS', value=1, inplace=True)\n",
    "test['LandContour'].replace(to_replace='Bnk', value=2, inplace=True)\n",
    "test['LandContour'].replace(to_replace='Lvl', value=3, inplace=True)\n",
    "test['Utilities'].replace(to_replace='ELO', value=0, inplace=True)\n",
    "test['Utilities'].replace(to_replace='NoSewa', value=1, inplace=True)\n",
    "test['Utilities'].replace(to_replace='NoSewr', value=2, inplace=True)\n",
    "test['Utilities'].replace(to_replace='AllPub', value=3, inplace=True)\n"
   ]
  },
  {
   "cell_type": "code",
   "execution_count": 32,
   "metadata": {},
   "outputs": [
    {
     "output_type": "execute_result",
     "data": {
      "text/plain": [
       "      MSSubClass MSZoning  LotArea  Street  LotShape  LandContour Utilities  \\\n",
       "0             60       RL     8450       1         3            3         3   \n",
       "1             20       RL     9600       1         3            3         3   \n",
       "2             60       RL    11250       1         2            3         3   \n",
       "3             70       RL     9550       1         2            3         3   \n",
       "4             60       RL    14260       1         2            3         3   \n",
       "...          ...      ...      ...     ...       ...          ...       ...   \n",
       "1455          60       RL     7917       1         3            3         3   \n",
       "1456          20       RL    13175       1         3            3         3   \n",
       "1457          70       RL     9042       1         3            3         3   \n",
       "1458          20       RL     9717       1         3            3         3   \n",
       "1459          20       RL     9937       1         3            3         3   \n",
       "\n",
       "     LandSlope Neighborhood Condition1  ... EnclosedPorch 3SsnPorch  \\\n",
       "0          Gtl      CollgCr       Norm  ...             0         0   \n",
       "1          Gtl      Veenker      Feedr  ...             0         0   \n",
       "2          Gtl      CollgCr       Norm  ...             0         0   \n",
       "3          Gtl      Crawfor       Norm  ...           272         0   \n",
       "4          Gtl      NoRidge       Norm  ...             0         0   \n",
       "...        ...          ...        ...  ...           ...       ...   \n",
       "1455       Gtl      Gilbert       Norm  ...             0         0   \n",
       "1456       Gtl       NWAmes       Norm  ...             0         0   \n",
       "1457       Gtl      Crawfor       Norm  ...             0         0   \n",
       "1458       Gtl        NAmes       Norm  ...           112         0   \n",
       "1459       Gtl      Edwards       Norm  ...             0         0   \n",
       "\n",
       "     ScreenPorch  PoolArea  MiscVal  MoSold  YrSold SaleType SaleCondition  \\\n",
       "0              0         0        0       2    2008       WD        Normal   \n",
       "1              0         0        0       5    2007       WD        Normal   \n",
       "2              0         0        0       9    2008       WD        Normal   \n",
       "3              0         0        0       2    2006       WD       Abnorml   \n",
       "4              0         0        0      12    2008       WD        Normal   \n",
       "...          ...       ...      ...     ...     ...      ...           ...   \n",
       "1455           0         0        0       8    2007       WD        Normal   \n",
       "1456           0         0        0       2    2010       WD        Normal   \n",
       "1457           0         0     2500       5    2010       WD        Normal   \n",
       "1458           0         0        0       4    2010       WD        Normal   \n",
       "1459           0         0        0       6    2008       WD        Normal   \n",
       "\n",
       "     SalePrice  \n",
       "0       208500  \n",
       "1       181500  \n",
       "2       223500  \n",
       "3       140000  \n",
       "4       250000  \n",
       "...        ...  \n",
       "1455    175000  \n",
       "1456    210000  \n",
       "1457    266500  \n",
       "1458    142125  \n",
       "1459    147500  \n",
       "\n",
       "[1338 rows x 73 columns]"
      ],
      "text/html": "<div>\n<style scoped>\n    .dataframe tbody tr th:only-of-type {\n        vertical-align: middle;\n    }\n\n    .dataframe tbody tr th {\n        vertical-align: top;\n    }\n\n    .dataframe thead th {\n        text-align: right;\n    }\n</style>\n<table border=\"1\" class=\"dataframe\">\n  <thead>\n    <tr style=\"text-align: right;\">\n      <th></th>\n      <th>MSSubClass</th>\n      <th>MSZoning</th>\n      <th>LotArea</th>\n      <th>Street</th>\n      <th>LotShape</th>\n      <th>LandContour</th>\n      <th>Utilities</th>\n      <th>LandSlope</th>\n      <th>Neighborhood</th>\n      <th>Condition1</th>\n      <th>...</th>\n      <th>EnclosedPorch</th>\n      <th>3SsnPorch</th>\n      <th>ScreenPorch</th>\n      <th>PoolArea</th>\n      <th>MiscVal</th>\n      <th>MoSold</th>\n      <th>YrSold</th>\n      <th>SaleType</th>\n      <th>SaleCondition</th>\n      <th>SalePrice</th>\n    </tr>\n  </thead>\n  <tbody>\n    <tr>\n      <th>0</th>\n      <td>60</td>\n      <td>RL</td>\n      <td>8450</td>\n      <td>1</td>\n      <td>3</td>\n      <td>3</td>\n      <td>3</td>\n      <td>Gtl</td>\n      <td>CollgCr</td>\n      <td>Norm</td>\n      <td>...</td>\n      <td>0</td>\n      <td>0</td>\n      <td>0</td>\n      <td>0</td>\n      <td>0</td>\n      <td>2</td>\n      <td>2008</td>\n      <td>WD</td>\n      <td>Normal</td>\n      <td>208500</td>\n    </tr>\n    <tr>\n      <th>1</th>\n      <td>20</td>\n      <td>RL</td>\n      <td>9600</td>\n      <td>1</td>\n      <td>3</td>\n      <td>3</td>\n      <td>3</td>\n      <td>Gtl</td>\n      <td>Veenker</td>\n      <td>Feedr</td>\n      <td>...</td>\n      <td>0</td>\n      <td>0</td>\n      <td>0</td>\n      <td>0</td>\n      <td>0</td>\n      <td>5</td>\n      <td>2007</td>\n      <td>WD</td>\n      <td>Normal</td>\n      <td>181500</td>\n    </tr>\n    <tr>\n      <th>2</th>\n      <td>60</td>\n      <td>RL</td>\n      <td>11250</td>\n      <td>1</td>\n      <td>2</td>\n      <td>3</td>\n      <td>3</td>\n      <td>Gtl</td>\n      <td>CollgCr</td>\n      <td>Norm</td>\n      <td>...</td>\n      <td>0</td>\n      <td>0</td>\n      <td>0</td>\n      <td>0</td>\n      <td>0</td>\n      <td>9</td>\n      <td>2008</td>\n      <td>WD</td>\n      <td>Normal</td>\n      <td>223500</td>\n    </tr>\n    <tr>\n      <th>3</th>\n      <td>70</td>\n      <td>RL</td>\n      <td>9550</td>\n      <td>1</td>\n      <td>2</td>\n      <td>3</td>\n      <td>3</td>\n      <td>Gtl</td>\n      <td>Crawfor</td>\n      <td>Norm</td>\n      <td>...</td>\n      <td>272</td>\n      <td>0</td>\n      <td>0</td>\n      <td>0</td>\n      <td>0</td>\n      <td>2</td>\n      <td>2006</td>\n      <td>WD</td>\n      <td>Abnorml</td>\n      <td>140000</td>\n    </tr>\n    <tr>\n      <th>4</th>\n      <td>60</td>\n      <td>RL</td>\n      <td>14260</td>\n      <td>1</td>\n      <td>2</td>\n      <td>3</td>\n      <td>3</td>\n      <td>Gtl</td>\n      <td>NoRidge</td>\n      <td>Norm</td>\n      <td>...</td>\n      <td>0</td>\n      <td>0</td>\n      <td>0</td>\n      <td>0</td>\n      <td>0</td>\n      <td>12</td>\n      <td>2008</td>\n      <td>WD</td>\n      <td>Normal</td>\n      <td>250000</td>\n    </tr>\n    <tr>\n      <th>...</th>\n      <td>...</td>\n      <td>...</td>\n      <td>...</td>\n      <td>...</td>\n      <td>...</td>\n      <td>...</td>\n      <td>...</td>\n      <td>...</td>\n      <td>...</td>\n      <td>...</td>\n      <td>...</td>\n      <td>...</td>\n      <td>...</td>\n      <td>...</td>\n      <td>...</td>\n      <td>...</td>\n      <td>...</td>\n      <td>...</td>\n      <td>...</td>\n      <td>...</td>\n      <td>...</td>\n    </tr>\n    <tr>\n      <th>1455</th>\n      <td>60</td>\n      <td>RL</td>\n      <td>7917</td>\n      <td>1</td>\n      <td>3</td>\n      <td>3</td>\n      <td>3</td>\n      <td>Gtl</td>\n      <td>Gilbert</td>\n      <td>Norm</td>\n      <td>...</td>\n      <td>0</td>\n      <td>0</td>\n      <td>0</td>\n      <td>0</td>\n      <td>0</td>\n      <td>8</td>\n      <td>2007</td>\n      <td>WD</td>\n      <td>Normal</td>\n      <td>175000</td>\n    </tr>\n    <tr>\n      <th>1456</th>\n      <td>20</td>\n      <td>RL</td>\n      <td>13175</td>\n      <td>1</td>\n      <td>3</td>\n      <td>3</td>\n      <td>3</td>\n      <td>Gtl</td>\n      <td>NWAmes</td>\n      <td>Norm</td>\n      <td>...</td>\n      <td>0</td>\n      <td>0</td>\n      <td>0</td>\n      <td>0</td>\n      <td>0</td>\n      <td>2</td>\n      <td>2010</td>\n      <td>WD</td>\n      <td>Normal</td>\n      <td>210000</td>\n    </tr>\n    <tr>\n      <th>1457</th>\n      <td>70</td>\n      <td>RL</td>\n      <td>9042</td>\n      <td>1</td>\n      <td>3</td>\n      <td>3</td>\n      <td>3</td>\n      <td>Gtl</td>\n      <td>Crawfor</td>\n      <td>Norm</td>\n      <td>...</td>\n      <td>0</td>\n      <td>0</td>\n      <td>0</td>\n      <td>0</td>\n      <td>2500</td>\n      <td>5</td>\n      <td>2010</td>\n      <td>WD</td>\n      <td>Normal</td>\n      <td>266500</td>\n    </tr>\n    <tr>\n      <th>1458</th>\n      <td>20</td>\n      <td>RL</td>\n      <td>9717</td>\n      <td>1</td>\n      <td>3</td>\n      <td>3</td>\n      <td>3</td>\n      <td>Gtl</td>\n      <td>NAmes</td>\n      <td>Norm</td>\n      <td>...</td>\n      <td>112</td>\n      <td>0</td>\n      <td>0</td>\n      <td>0</td>\n      <td>0</td>\n      <td>4</td>\n      <td>2010</td>\n      <td>WD</td>\n      <td>Normal</td>\n      <td>142125</td>\n    </tr>\n    <tr>\n      <th>1459</th>\n      <td>20</td>\n      <td>RL</td>\n      <td>9937</td>\n      <td>1</td>\n      <td>3</td>\n      <td>3</td>\n      <td>3</td>\n      <td>Gtl</td>\n      <td>Edwards</td>\n      <td>Norm</td>\n      <td>...</td>\n      <td>0</td>\n      <td>0</td>\n      <td>0</td>\n      <td>0</td>\n      <td>0</td>\n      <td>6</td>\n      <td>2008</td>\n      <td>WD</td>\n      <td>Normal</td>\n      <td>147500</td>\n    </tr>\n  </tbody>\n</table>\n<p>1338 rows × 73 columns</p>\n</div>"
     },
     "metadata": {},
     "execution_count": 32
    }
   ],
   "source": [
    "train.drop(columns=['LotConfig'])"
   ]
  },
  {
   "cell_type": "code",
   "execution_count": 33,
   "metadata": {},
   "outputs": [
    {
     "output_type": "execute_result",
     "data": {
      "text/plain": [
       "      MSSubClass MSZoning  LotArea  Street  LotShape  LandContour  Utilities  \\\n",
       "0             20       RH    11622       1         3            3        3.0   \n",
       "1             20       RL    14267       1         2            3        3.0   \n",
       "2             60       RL    13830       1         2            3        3.0   \n",
       "3             60       RL     9978       1         2            3        3.0   \n",
       "4            120       RL     5005       1         2            1        3.0   \n",
       "...          ...      ...      ...     ...       ...          ...        ...   \n",
       "1454         160       RM     1936       1         3            3        3.0   \n",
       "1455         160       RM     1894       1         3            3        3.0   \n",
       "1456          20       RL    20000       1         3            3        3.0   \n",
       "1457          85       RL    10441       1         3            3        3.0   \n",
       "1458          60       RL     9627       1         3            3        3.0   \n",
       "\n",
       "     LandSlope Neighborhood Condition1  ... OpenPorchSF EnclosedPorch  \\\n",
       "0          Gtl        NAmes      Feedr  ...           0             0   \n",
       "1          Gtl        NAmes       Norm  ...          36             0   \n",
       "2          Gtl      Gilbert       Norm  ...          34             0   \n",
       "3          Gtl      Gilbert       Norm  ...          36             0   \n",
       "4          Gtl      StoneBr       Norm  ...          82             0   \n",
       "...        ...          ...        ...  ...         ...           ...   \n",
       "1454       Gtl      MeadowV       Norm  ...           0             0   \n",
       "1455       Gtl      MeadowV       Norm  ...          24             0   \n",
       "1456       Gtl      Mitchel       Norm  ...           0             0   \n",
       "1457       Gtl      Mitchel       Norm  ...          32             0   \n",
       "1458       Mod      Mitchel       Norm  ...          48             0   \n",
       "\n",
       "     3SsnPorch  ScreenPorch  PoolArea  MiscVal  MoSold YrSold SaleType  \\\n",
       "0            0          120         0        0       6   2010       WD   \n",
       "1            0            0         0    12500       6   2010       WD   \n",
       "2            0            0         0        0       3   2010       WD   \n",
       "3            0            0         0        0       6   2010       WD   \n",
       "4            0          144         0        0       1   2010       WD   \n",
       "...        ...          ...       ...      ...     ...    ...      ...   \n",
       "1454         0            0         0        0       6   2006       WD   \n",
       "1455         0            0         0        0       4   2006       WD   \n",
       "1456         0            0         0        0       9   2006       WD   \n",
       "1457         0            0         0      700       7   2006       WD   \n",
       "1458         0            0         0        0      11   2006       WD   \n",
       "\n",
       "     SaleCondition  \n",
       "0           Normal  \n",
       "1           Normal  \n",
       "2           Normal  \n",
       "3           Normal  \n",
       "4           Normal  \n",
       "...            ...  \n",
       "1454        Normal  \n",
       "1455       Abnorml  \n",
       "1456       Abnorml  \n",
       "1457        Normal  \n",
       "1458        Normal  \n",
       "\n",
       "[1459 rows x 72 columns]"
      ],
      "text/html": "<div>\n<style scoped>\n    .dataframe tbody tr th:only-of-type {\n        vertical-align: middle;\n    }\n\n    .dataframe tbody tr th {\n        vertical-align: top;\n    }\n\n    .dataframe thead th {\n        text-align: right;\n    }\n</style>\n<table border=\"1\" class=\"dataframe\">\n  <thead>\n    <tr style=\"text-align: right;\">\n      <th></th>\n      <th>MSSubClass</th>\n      <th>MSZoning</th>\n      <th>LotArea</th>\n      <th>Street</th>\n      <th>LotShape</th>\n      <th>LandContour</th>\n      <th>Utilities</th>\n      <th>LandSlope</th>\n      <th>Neighborhood</th>\n      <th>Condition1</th>\n      <th>...</th>\n      <th>OpenPorchSF</th>\n      <th>EnclosedPorch</th>\n      <th>3SsnPorch</th>\n      <th>ScreenPorch</th>\n      <th>PoolArea</th>\n      <th>MiscVal</th>\n      <th>MoSold</th>\n      <th>YrSold</th>\n      <th>SaleType</th>\n      <th>SaleCondition</th>\n    </tr>\n  </thead>\n  <tbody>\n    <tr>\n      <th>0</th>\n      <td>20</td>\n      <td>RH</td>\n      <td>11622</td>\n      <td>1</td>\n      <td>3</td>\n      <td>3</td>\n      <td>3.0</td>\n      <td>Gtl</td>\n      <td>NAmes</td>\n      <td>Feedr</td>\n      <td>...</td>\n      <td>0</td>\n      <td>0</td>\n      <td>0</td>\n      <td>120</td>\n      <td>0</td>\n      <td>0</td>\n      <td>6</td>\n      <td>2010</td>\n      <td>WD</td>\n      <td>Normal</td>\n    </tr>\n    <tr>\n      <th>1</th>\n      <td>20</td>\n      <td>RL</td>\n      <td>14267</td>\n      <td>1</td>\n      <td>2</td>\n      <td>3</td>\n      <td>3.0</td>\n      <td>Gtl</td>\n      <td>NAmes</td>\n      <td>Norm</td>\n      <td>...</td>\n      <td>36</td>\n      <td>0</td>\n      <td>0</td>\n      <td>0</td>\n      <td>0</td>\n      <td>12500</td>\n      <td>6</td>\n      <td>2010</td>\n      <td>WD</td>\n      <td>Normal</td>\n    </tr>\n    <tr>\n      <th>2</th>\n      <td>60</td>\n      <td>RL</td>\n      <td>13830</td>\n      <td>1</td>\n      <td>2</td>\n      <td>3</td>\n      <td>3.0</td>\n      <td>Gtl</td>\n      <td>Gilbert</td>\n      <td>Norm</td>\n      <td>...</td>\n      <td>34</td>\n      <td>0</td>\n      <td>0</td>\n      <td>0</td>\n      <td>0</td>\n      <td>0</td>\n      <td>3</td>\n      <td>2010</td>\n      <td>WD</td>\n      <td>Normal</td>\n    </tr>\n    <tr>\n      <th>3</th>\n      <td>60</td>\n      <td>RL</td>\n      <td>9978</td>\n      <td>1</td>\n      <td>2</td>\n      <td>3</td>\n      <td>3.0</td>\n      <td>Gtl</td>\n      <td>Gilbert</td>\n      <td>Norm</td>\n      <td>...</td>\n      <td>36</td>\n      <td>0</td>\n      <td>0</td>\n      <td>0</td>\n      <td>0</td>\n      <td>0</td>\n      <td>6</td>\n      <td>2010</td>\n      <td>WD</td>\n      <td>Normal</td>\n    </tr>\n    <tr>\n      <th>4</th>\n      <td>120</td>\n      <td>RL</td>\n      <td>5005</td>\n      <td>1</td>\n      <td>2</td>\n      <td>1</td>\n      <td>3.0</td>\n      <td>Gtl</td>\n      <td>StoneBr</td>\n      <td>Norm</td>\n      <td>...</td>\n      <td>82</td>\n      <td>0</td>\n      <td>0</td>\n      <td>144</td>\n      <td>0</td>\n      <td>0</td>\n      <td>1</td>\n      <td>2010</td>\n      <td>WD</td>\n      <td>Normal</td>\n    </tr>\n    <tr>\n      <th>...</th>\n      <td>...</td>\n      <td>...</td>\n      <td>...</td>\n      <td>...</td>\n      <td>...</td>\n      <td>...</td>\n      <td>...</td>\n      <td>...</td>\n      <td>...</td>\n      <td>...</td>\n      <td>...</td>\n      <td>...</td>\n      <td>...</td>\n      <td>...</td>\n      <td>...</td>\n      <td>...</td>\n      <td>...</td>\n      <td>...</td>\n      <td>...</td>\n      <td>...</td>\n      <td>...</td>\n    </tr>\n    <tr>\n      <th>1454</th>\n      <td>160</td>\n      <td>RM</td>\n      <td>1936</td>\n      <td>1</td>\n      <td>3</td>\n      <td>3</td>\n      <td>3.0</td>\n      <td>Gtl</td>\n      <td>MeadowV</td>\n      <td>Norm</td>\n      <td>...</td>\n      <td>0</td>\n      <td>0</td>\n      <td>0</td>\n      <td>0</td>\n      <td>0</td>\n      <td>0</td>\n      <td>6</td>\n      <td>2006</td>\n      <td>WD</td>\n      <td>Normal</td>\n    </tr>\n    <tr>\n      <th>1455</th>\n      <td>160</td>\n      <td>RM</td>\n      <td>1894</td>\n      <td>1</td>\n      <td>3</td>\n      <td>3</td>\n      <td>3.0</td>\n      <td>Gtl</td>\n      <td>MeadowV</td>\n      <td>Norm</td>\n      <td>...</td>\n      <td>24</td>\n      <td>0</td>\n      <td>0</td>\n      <td>0</td>\n      <td>0</td>\n      <td>0</td>\n      <td>4</td>\n      <td>2006</td>\n      <td>WD</td>\n      <td>Abnorml</td>\n    </tr>\n    <tr>\n      <th>1456</th>\n      <td>20</td>\n      <td>RL</td>\n      <td>20000</td>\n      <td>1</td>\n      <td>3</td>\n      <td>3</td>\n      <td>3.0</td>\n      <td>Gtl</td>\n      <td>Mitchel</td>\n      <td>Norm</td>\n      <td>...</td>\n      <td>0</td>\n      <td>0</td>\n      <td>0</td>\n      <td>0</td>\n      <td>0</td>\n      <td>0</td>\n      <td>9</td>\n      <td>2006</td>\n      <td>WD</td>\n      <td>Abnorml</td>\n    </tr>\n    <tr>\n      <th>1457</th>\n      <td>85</td>\n      <td>RL</td>\n      <td>10441</td>\n      <td>1</td>\n      <td>3</td>\n      <td>3</td>\n      <td>3.0</td>\n      <td>Gtl</td>\n      <td>Mitchel</td>\n      <td>Norm</td>\n      <td>...</td>\n      <td>32</td>\n      <td>0</td>\n      <td>0</td>\n      <td>0</td>\n      <td>0</td>\n      <td>700</td>\n      <td>7</td>\n      <td>2006</td>\n      <td>WD</td>\n      <td>Normal</td>\n    </tr>\n    <tr>\n      <th>1458</th>\n      <td>60</td>\n      <td>RL</td>\n      <td>9627</td>\n      <td>1</td>\n      <td>3</td>\n      <td>3</td>\n      <td>3.0</td>\n      <td>Mod</td>\n      <td>Mitchel</td>\n      <td>Norm</td>\n      <td>...</td>\n      <td>48</td>\n      <td>0</td>\n      <td>0</td>\n      <td>0</td>\n      <td>0</td>\n      <td>0</td>\n      <td>11</td>\n      <td>2006</td>\n      <td>WD</td>\n      <td>Normal</td>\n    </tr>\n  </tbody>\n</table>\n<p>1459 rows × 72 columns</p>\n</div>"
     },
     "metadata": {},
     "execution_count": 33
    }
   ],
   "source": [
    "test.drop(columns=['LotConfig'])"
   ]
  },
  {
   "cell_type": "code",
   "execution_count": 34,
   "metadata": {},
   "outputs": [],
   "source": [
    "train['LandSlope'].replace(to_replace='Sev', value=0, inplace=True)\n"
   ]
  },
  {
   "cell_type": "code",
   "execution_count": 35,
   "metadata": {},
   "outputs": [],
   "source": [
    "train['LandSlope'].replace(to_replace='Mod', value=1, inplace=True)\n",
    "train['LandSlope'].replace(to_replace='Gtl', value=2, inplace=True)\n",
    "\n",
    "test['LandSlope'].replace(to_replace='Sev', value=0, inplace=True)\n",
    "test['LandSlope'].replace(to_replace='Mod', value=1, inplace=True)\n",
    "test['LandSlope'].replace(to_replace='Gtl', value=2, inplace=True)"
   ]
  },
  {
   "cell_type": "code",
   "execution_count": 36,
   "metadata": {},
   "outputs": [],
   "source": [
    "train['ExterQual'].replace(to_replace='Po', value=0, inplace=True)\n",
    "train['ExterQual'].replace(to_replace='Fa', value=1, inplace=True)\n",
    "train['ExterQual'].replace(to_replace='TA', value=2, inplace=True)\n",
    "train['ExterQual'].replace(to_replace='Gd', value=3, inplace=True)\n",
    "train['ExterQual'].replace(to_replace='Ex', value=4, inplace=True)\n",
    "\n",
    "test['ExterQual'].replace(to_replace='Po', value=0, inplace=True)\n",
    "test['ExterQual'].replace(to_replace='Fa', value=1, inplace=True)\n",
    "test['ExterQual'].replace(to_replace='TA', value=2, inplace=True)\n",
    "test['ExterQual'].replace(to_replace='Gd', value=3, inplace=True)\n",
    "test['ExterQual'].replace(to_replace='Ex', value=4, inplace=True)"
   ]
  },
  {
   "cell_type": "code",
   "execution_count": 37,
   "metadata": {},
   "outputs": [],
   "source": [
    "train['ExterCond'].replace(to_replace='Po', value=0, inplace=True)\n",
    "train['ExterCond'].replace(to_replace='Fa', value=1, inplace=True)\n",
    "train['ExterCond'].replace(to_replace='TA', value=2, inplace=True)\n",
    "train['ExterCond'].replace(to_replace='Gd', value=3, inplace=True)\n",
    "train['ExterCond'].replace(to_replace='Ex', value=4, inplace=True)\n",
    "\n",
    "test['ExterCond'].replace(to_replace='Po', value=0, inplace=True)\n",
    "test['ExterCond'].replace(to_replace='Fa', value=1, inplace=True)\n",
    "test['ExterCond'].replace(to_replace='TA', value=2, inplace=True)\n",
    "test['ExterCond'].replace(to_replace='Gd', value=3, inplace=True)\n",
    "test['ExterCond'].replace(to_replace='Ex', value=4, inplace=True)"
   ]
  },
  {
   "cell_type": "code",
   "execution_count": 38,
   "metadata": {},
   "outputs": [],
   "source": [
    "train['BsmtQual'].replace(to_replace='NA', value=-1, inplace=True)\n",
    "train['BsmtQual'].replace(to_replace='Po', value=0, inplace=True)\n",
    "train['BsmtQual'].replace(to_replace='Fa', value=1, inplace=True)\n",
    "train['BsmtQual'].replace(to_replace='TA', value=2, inplace=True)\n",
    "train['BsmtQual'].replace(to_replace='Gd', value=3, inplace=True)\n",
    "train['BsmtQual'].replace(to_replace='Ex', value=4, inplace=True)\n",
    "\n",
    "test['BsmtQual'].replace(to_replace='NA', value=-1, inplace=True)\n",
    "test['BsmtQual'].replace(to_replace='Po', value=0, inplace=True)\n",
    "test['BsmtQual'].replace(to_replace='Fa', value=1, inplace=True)\n",
    "test['BsmtQual'].replace(to_replace='TA', value=2, inplace=True)\n",
    "test['BsmtQual'].replace(to_replace='Gd', value=3, inplace=True)\n",
    "test['BsmtQual'].replace(to_replace='Ex', value=4, inplace=True)"
   ]
  },
  {
   "cell_type": "code",
   "execution_count": 39,
   "metadata": {},
   "outputs": [],
   "source": [
    "train['BsmtCond'].replace(to_replace='NA', value=-1, inplace=True)\n",
    "train['BsmtCond'].replace(to_replace='Po', value=0, inplace=True)\n",
    "train['BsmtCond'].replace(to_replace='Fa', value=1, inplace=True)\n",
    "train['BsmtCond'].replace(to_replace='TA', value=2, inplace=True)\n",
    "train['BsmtCond'].replace(to_replace='Gd', value=3, inplace=True)\n",
    "train['BsmtCond'].replace(to_replace='Ex', value=4, inplace=True)\n",
    "\n",
    "test['BsmtCond'].replace(to_replace='NA', value=-1, inplace=True)\n",
    "test['BsmtCond'].replace(to_replace='Po', value=0, inplace=True)\n",
    "test['BsmtCond'].replace(to_replace='Fa', value=1, inplace=True)\n",
    "test['BsmtCond'].replace(to_replace='TA', value=2, inplace=True)\n",
    "test['BsmtCond'].replace(to_replace='Gd', value=3, inplace=True)\n",
    "test['BsmtCond'].replace(to_replace='Ex', value=4, inplace=True)"
   ]
  },
  {
   "cell_type": "code",
   "execution_count": 40,
   "metadata": {},
   "outputs": [],
   "source": [
    "train['BsmtExposure'].replace(to_replace='NA', value=0, inplace=True)\n",
    "train['BsmtExposure'].replace(to_replace='No', value=1, inplace=True)\n",
    "train['BsmtExposure'].replace(to_replace='Mn', value=2, inplace=True)\n",
    "train['BsmtExposure'].replace(to_replace='Av', value=3, inplace=True)\n",
    "train['BsmtExposure'].replace(to_replace='Gd', value=4, inplace=True)\n",
    "\n",
    "test['BsmtExposure'].replace(to_replace='NA', value=0, inplace=True)\n",
    "test['BsmtExposure'].replace(to_replace='No', value=1, inplace=True)\n",
    "test['BsmtExposure'].replace(to_replace='Mn', value=2, inplace=True)\n",
    "test['BsmtExposure'].replace(to_replace='Av', value=3, inplace=True)\n",
    "test['BsmtExposure'].replace(to_replace='Gd', value=4, inplace=True)"
   ]
  },
  {
   "cell_type": "code",
   "execution_count": 41,
   "metadata": {},
   "outputs": [],
   "source": [
    "train['BsmtFinType1'].replace(to_replace='NA', value=-1, inplace=True)\n",
    "train['BsmtFinType1'].replace(to_replace='Unf', value=0, inplace=True)\n",
    "train['BsmtFinType1'].replace(to_replace='Fa', value=1, inplace=True)\n",
    "train['BsmtFinType1'].replace(to_replace='LwQ', value=2, inplace=True)\n",
    "train['BsmtFinType1'].replace(to_replace='Rec', value=3, inplace=True)\n",
    "train['BsmtFinType1'].replace(to_replace='BLQ', value=4, inplace=True)\n",
    "train['BsmtFinType1'].replace(to_replace='ALQ', value=5, inplace=True)\n",
    "train['BsmtFinType1'].replace(to_replace='GLQ', value=6, inplace=True)\n",
    "\n",
    "test['BsmtFinType1'].replace(to_replace='NA', value=-1, inplace=True)\n",
    "test['BsmtFinType1'].replace(to_replace='Unf', value=0, inplace=True)\n",
    "test['BsmtFinType1'].replace(to_replace='Fa', value=1, inplace=True)\n",
    "test['BsmtFinType1'].replace(to_replace='LwQ', value=2, inplace=True)\n",
    "test['BsmtFinType1'].replace(to_replace='Rec', value=3, inplace=True)\n",
    "test['BsmtFinType1'].replace(to_replace='BLQ', value=4, inplace=True)\n",
    "test['BsmtFinType1'].replace(to_replace='ALQ', value=5, inplace=True)\n",
    "test['BsmtFinType1'].replace(to_replace='GLQ', value=6, inplace=True)"
   ]
  },
  {
   "cell_type": "code",
   "execution_count": 42,
   "metadata": {},
   "outputs": [],
   "source": [
    "train['BsmtFinType2'].replace(to_replace='NA', value=-1, inplace=True)\n",
    "train['BsmtFinType2'].replace(to_replace='Unf', value=0, inplace=True)\n",
    "train['BsmtFinType2'].replace(to_replace='Fa', value=1, inplace=True)\n",
    "train['BsmtFinType2'].replace(to_replace='LwQ', value=2, inplace=True)\n",
    "train['BsmtFinType2'].replace(to_replace='Rec', value=3, inplace=True)\n",
    "train['BsmtFinType2'].replace(to_replace='BLQ', value=4, inplace=True)\n",
    "train['BsmtFinType2'].replace(to_replace='ALQ', value=5, inplace=True)\n",
    "train['BsmtFinType2'].replace(to_replace='GLQ', value=6, inplace=True)\n",
    "\n",
    "test['BsmtFinType2'].replace(to_replace='NA', value=-1, inplace=True)\n",
    "test['BsmtFinType2'].replace(to_replace='Unf', value=0, inplace=True)\n",
    "test['BsmtFinType2'].replace(to_replace='Fa', value=1, inplace=True)\n",
    "test['BsmtFinType2'].replace(to_replace='LwQ', value=2, inplace=True)\n",
    "test['BsmtFinType2'].replace(to_replace='Rec', value=3, inplace=True)\n",
    "test['BsmtFinType2'].replace(to_replace='BLQ', value=4, inplace=True)\n",
    "test['BsmtFinType2'].replace(to_replace='ALQ', value=5, inplace=True)\n",
    "test['BsmtFinType2'].replace(to_replace='GLQ', value=6, inplace=True)"
   ]
  },
  {
   "cell_type": "code",
   "execution_count": 43,
   "metadata": {},
   "outputs": [],
   "source": [
    "train['HeatingQC'].replace(to_replace='Po', value=0, inplace=True)\n",
    "train['HeatingQC'].replace(to_replace='Fa', value=1, inplace=True)\n",
    "train['HeatingQC'].replace(to_replace='TA', value=2, inplace=True)\n",
    "train['HeatingQC'].replace(to_replace='Gd', value=3, inplace=True)\n",
    "train['HeatingQC'].replace(to_replace='Ex', value=4, inplace=True)\n",
    "\n",
    "test['HeatingQC'].replace(to_replace='Po', value=0, inplace=True)\n",
    "test['HeatingQC'].replace(to_replace='Fa', value=1, inplace=True)\n",
    "test['HeatingQC'].replace(to_replace='TA', value=2, inplace=True)\n",
    "test['HeatingQC'].replace(to_replace='Gd', value=3, inplace=True)\n",
    "test['HeatingQC'].replace(to_replace='Ex', value=4, inplace=True)"
   ]
  },
  {
   "cell_type": "code",
   "execution_count": 44,
   "metadata": {},
   "outputs": [],
   "source": [
    "train['CentralAir'].replace(to_replace='N', value=0, inplace=True)\n",
    "train['CentralAir'].replace(to_replace='Y', value=1, inplace=True)\n",
    "\n",
    "test['CentralAir'].replace(to_replace='N', value=0, inplace=True)\n",
    "test['CentralAir'].replace(to_replace='Y', value=1, inplace=True)"
   ]
  },
  {
   "cell_type": "code",
   "execution_count": 45,
   "metadata": {},
   "outputs": [],
   "source": [
    "train['KitchenQual'].replace(to_replace='Po', value=0, inplace=True)\n",
    "train['KitchenQual'].replace(to_replace='Fa', value=1, inplace=True)\n",
    "train['KitchenQual'].replace(to_replace='TA', value=2, inplace=True)\n",
    "train['KitchenQual'].replace(to_replace='Gd', value=3, inplace=True)\n",
    "train['KitchenQual'].replace(to_replace='Ex', value=4, inplace=True)\n",
    "\n",
    "test['KitchenQual'].replace(to_replace='Po', value=0, inplace=True)\n",
    "test['KitchenQual'].replace(to_replace='Fa', value=1, inplace=True)\n",
    "test['KitchenQual'].replace(to_replace='TA', value=2, inplace=True)\n",
    "test['KitchenQual'].replace(to_replace='Gd', value=3, inplace=True)\n",
    "test['KitchenQual'].replace(to_replace='Ex', value=4, inplace=True)"
   ]
  },
  {
   "cell_type": "code",
   "execution_count": 46,
   "metadata": {},
   "outputs": [],
   "source": [
    "train['Functional'].replace(to_replace='Sal', value=0, inplace=True)\n",
    "train['Functional'].replace(to_replace='Sev', value=1, inplace=True)\n",
    "train['Functional'].replace(to_replace='Maj2', value=2, inplace=True)\n",
    "train['Functional'].replace(to_replace='Maj1', value=3, inplace=True)\n",
    "train['Functional'].replace(to_replace='Mod', value=4, inplace=True)\n",
    "train['Functional'].replace(to_replace='Min2', value=5, inplace=True)\n",
    "train['Functional'].replace(to_replace='Min1', value=6, inplace=True)\n",
    "train['Functional'].replace(to_replace='Typ', value=7, inplace=True)\n",
    "\n",
    "\n",
    "test['Functional'].replace(to_replace='Sal', value=0, inplace=True)\n",
    "test['Functional'].replace(to_replace='Sev', value=1, inplace=True)\n",
    "test['Functional'].replace(to_replace='Maj2', value=2, inplace=True)\n",
    "test['Functional'].replace(to_replace='Maj1', value=3, inplace=True)\n",
    "test['Functional'].replace(to_replace='Mod', value=4, inplace=True)\n",
    "test['Functional'].replace(to_replace='Min2', value=5, inplace=True)\n",
    "test['Functional'].replace(to_replace='Min1', value=6, inplace=True)\n",
    "test['Functional'].replace(to_replace='Typ', value=7, inplace=True)"
   ]
  },
  {
   "cell_type": "code",
   "execution_count": 47,
   "metadata": {},
   "outputs": [],
   "source": [
    "train['GarageFinish'].replace(to_replace='NA', value=-1, inplace=True)\n",
    "train['GarageFinish'].replace(to_replace='Unf', value=0, inplace=True)\n",
    "train['GarageFinish'].replace(to_replace='RFn', value=1, inplace=True)\n",
    "train['GarageFinish'].replace(to_replace='Fin', value=2, inplace=True)\n",
    "\n",
    "test['GarageFinish'].replace(to_replace='NA', value=-1, inplace=True)\n",
    "test['GarageFinish'].replace(to_replace='Unf', value=0, inplace=True)\n",
    "test['GarageFinish'].replace(to_replace='RFn', value=1, inplace=True)\n",
    "test['GarageFinish'].replace(to_replace='Fin', value=2, inplace=True)"
   ]
  },
  {
   "cell_type": "code",
   "execution_count": 48,
   "metadata": {},
   "outputs": [],
   "source": [
    "train['GarageQual'].replace(to_replace='NA', value=-1, inplace=True)\n",
    "train['GarageQual'].replace(to_replace='Po', value=0, inplace=True)\n",
    "train['GarageQual'].replace(to_replace='Fa', value=1, inplace=True)\n",
    "train['GarageQual'].replace(to_replace='TA', value=2, inplace=True)\n",
    "train['GarageQual'].replace(to_replace='Gd', value=3, inplace=True)\n",
    "train['GarageQual'].replace(to_replace='Ex', value=4, inplace=True)\n",
    "\n",
    "test['GarageQual'].replace(to_replace='NA', value=-1, inplace=True)\n",
    "test['GarageQual'].replace(to_replace='Po', value=0, inplace=True)\n",
    "test['GarageQual'].replace(to_replace='Fa', value=1, inplace=True)\n",
    "test['GarageQual'].replace(to_replace='TA', value=2, inplace=True)\n",
    "test['GarageQual'].replace(to_replace='Gd', value=3, inplace=True)\n",
    "test['GarageQual'].replace(to_replace='Ex', value=4, inplace=True)"
   ]
  },
  {
   "cell_type": "code",
   "execution_count": 49,
   "metadata": {},
   "outputs": [],
   "source": [
    "train['GarageCond'].replace(to_replace='NA', value=-1, inplace=True)\n",
    "train['GarageCond'].replace(to_replace='Po', value=0, inplace=True)\n",
    "train['GarageCond'].replace(to_replace='Fa', value=1, inplace=True)\n",
    "train['GarageCond'].replace(to_replace='TA', value=2, inplace=True)\n",
    "train['GarageCond'].replace(to_replace='Gd', value=3, inplace=True)\n",
    "train['GarageCond'].replace(to_replace='Ex', value=4, inplace=True)\n",
    "\n",
    "test['GarageCond'].replace(to_replace='NA', value=-1, inplace=True)\n",
    "test['GarageCond'].replace(to_replace='Po', value=0, inplace=True)\n",
    "test['GarageCond'].replace(to_replace='Fa', value=1, inplace=True)\n",
    "test['GarageCond'].replace(to_replace='TA', value=2, inplace=True)\n",
    "test['GarageCond'].replace(to_replace='Gd', value=3, inplace=True)\n",
    "test['GarageCond'].replace(to_replace='Ex', value=4, inplace=True)"
   ]
  },
  {
   "cell_type": "code",
   "execution_count": 50,
   "metadata": {},
   "outputs": [],
   "source": [
    "train['PavedDrive'].replace(to_replace='N', value=0, inplace=True)\n",
    "train['PavedDrive'].replace(to_replace='P', value=1, inplace=True)\n",
    "train['PavedDrive'].replace(to_replace='Y', value=2, inplace=True)\n",
    "\n",
    "test['PavedDrive'].replace(to_replace='N', value=0, inplace=True)\n",
    "test['PavedDrive'].replace(to_replace='P', value=1, inplace=True)\n",
    "test['PavedDrive'].replace(to_replace='Y', value=2, inplace=True)"
   ]
  },
  {
   "source": [
    "Τωρα ξεκιναμε με τα One Hot:\n",
    "\n",
    "'MSSubClass'\n",
    "'MSZoning'\n",
    "'Neighborhood'\n",
    "'Condition1'\n",
    "'Condition2'\n",
    "'BldgType'\n",
    "'RoofStyle'\n",
    "'RoofMatl'\n",
    "'Exterior1st'\n",
    "'Exterior2nd'\n",
    "'MasVnrType'\n",
    "'Foundation'\n",
    "'Heating'\n",
    "'Electrical'\n",
    "'GarageType'\n",
    "'SaleType'\n",
    "'SaleCondition'"
   ],
   "cell_type": "markdown",
   "metadata": {}
  },
  {
   "cell_type": "code",
   "execution_count": null,
   "metadata": {},
   "outputs": [],
   "source": []
  }
 ]
}
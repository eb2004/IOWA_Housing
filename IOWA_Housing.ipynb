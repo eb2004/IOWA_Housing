{
  "nbformat": 4,
  "nbformat_minor": 0,
  "metadata": {
    "colab": {
      "name": "IOWA_Housing.ipynb",
      "provenance": [],
      "collapsed_sections": [],
      "include_colab_link": true
    },
    "kernelspec": {
      "name": "python3",
      "display_name": "Python 3"
    },
    "language_info": {
      "name": "python"
    }
  },
  "cells": [
    {
      "cell_type": "markdown",
      "metadata": {
        "id": "view-in-github",
        "colab_type": "text"
      },
      "source": [
        "<a href=\"https://colab.research.google.com/github/eb2004/IOWA_Housing/blob/main/IOWA_Housing.ipynb\" target=\"_parent\"><img src=\"https://colab.research.google.com/assets/colab-badge.svg\" alt=\"Open In Colab\"/></a>"
      ]
    },
    {
      "cell_type": "code",
      "metadata": {
        "colab": {
          "resources": {
            "http://localhost:8080/nbextensions/google.colab/files.js": {
              "data": "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",
              "ok": true,
              "headers": [
                [
                  "content-type",
                  "application/javascript"
                ]
              ],
              "status": 200,
              "status_text": ""
            }
          },
          "base_uri": "https://localhost:8080/",
          "height": 106
        },
        "id": "84rgHSUGFh6R",
        "outputId": "e5bade33-78db-480e-9587-5f42415cd4a1"
      },
      "source": [
        "import numpy as np\n",
        "import pandas as pd\n",
        "import os\n",
        "import tarfile\n",
        "import io\n",
        "import matplotlib\n",
        "import matplotlib.pyplot as plt\n",
        "from pandas.plotting import scatter_matrix\n",
        "from sklearn.model_selection import train_test_split\n",
        "from sklearn.linear_model import LogisticRegression\n",
        "from sklearn.metrics import confusion_matrix, precision_score, recall_score, f1_score\n",
        "from sklearn.preprocessing import OrdinalEncoder\n",
        "\n",
        "\n",
        "\n",
        "from google.colab import files\n",
        "\n",
        "uploaded = files.upload()"
      ],
      "execution_count": null,
      "outputs": [
        {
          "output_type": "display_data",
          "data": {
            "text/html": [
              "\n",
              "     <input type=\"file\" id=\"files-1d66ae5d-016e-48ce-a57e-6bbec0afbd45\" name=\"files[]\" multiple disabled\n",
              "        style=\"border:none\" />\n",
              "     <output id=\"result-1d66ae5d-016e-48ce-a57e-6bbec0afbd45\">\n",
              "      Upload widget is only available when the cell has been executed in the\n",
              "      current browser session. Please rerun this cell to enable.\n",
              "      </output>\n",
              "      <script src=\"/nbextensions/google.colab/files.js\"></script> "
            ],
            "text/plain": [
              "<IPython.core.display.HTML object>"
            ]
          },
          "metadata": {
            "tags": []
          }
        },
        {
          "output_type": "stream",
          "text": [
            "Saving test.csv to test.csv\n",
            "Saving train.csv to train.csv\n"
          ],
          "name": "stdout"
        }
      ]
    },
    {
      "cell_type": "code",
      "metadata": {
        "id": "vkN6V4N0GciB"
      },
      "source": [
        "train = pd.read_csv(io.BytesIO(uploaded['train.csv']))\n",
        "test = pd.read_csv(io.BytesIO(uploaded['test.csv']))"
      ],
      "execution_count": null,
      "outputs": []
    },
    {
      "cell_type": "code",
      "metadata": {
        "colab": {
          "base_uri": "https://localhost:8080/"
        },
        "id": "7skmFGWWGlzV",
        "outputId": "c4dd04be-608f-4878-c1bf-27d598f1e752"
      },
      "source": [
        "i=0\n",
        "for column in train:\n",
        "  print(\"attribute \", i, \"named \", column, \"missing count: \", train[column].isna().sum())\n",
        "  i += 1"
      ],
      "execution_count": null,
      "outputs": [
        {
          "output_type": "stream",
          "text": [
            "attribute  0 named  Id missing count:  0\n",
            "attribute  1 named  MSSubClass missing count:  0\n",
            "attribute  2 named  MSZoning missing count:  0\n",
            "attribute  3 named  LotFrontage missing count:  259\n",
            "attribute  4 named  LotArea missing count:  0\n",
            "attribute  5 named  Street missing count:  0\n",
            "attribute  6 named  Alley missing count:  1369\n",
            "attribute  7 named  LotShape missing count:  0\n",
            "attribute  8 named  LandContour missing count:  0\n",
            "attribute  9 named  Utilities missing count:  0\n",
            "attribute  10 named  LotConfig missing count:  0\n",
            "attribute  11 named  LandSlope missing count:  0\n",
            "attribute  12 named  Neighborhood missing count:  0\n",
            "attribute  13 named  Condition1 missing count:  0\n",
            "attribute  14 named  Condition2 missing count:  0\n",
            "attribute  15 named  BldgType missing count:  0\n",
            "attribute  16 named  HouseStyle missing count:  0\n",
            "attribute  17 named  OverallQual missing count:  0\n",
            "attribute  18 named  OverallCond missing count:  0\n",
            "attribute  19 named  YearBuilt missing count:  0\n",
            "attribute  20 named  YearRemodAdd missing count:  0\n",
            "attribute  21 named  RoofStyle missing count:  0\n",
            "attribute  22 named  RoofMatl missing count:  0\n",
            "attribute  23 named  Exterior1st missing count:  0\n",
            "attribute  24 named  Exterior2nd missing count:  0\n",
            "attribute  25 named  MasVnrType missing count:  8\n",
            "attribute  26 named  MasVnrArea missing count:  8\n",
            "attribute  27 named  ExterQual missing count:  0\n",
            "attribute  28 named  ExterCond missing count:  0\n",
            "attribute  29 named  Foundation missing count:  0\n",
            "attribute  30 named  BsmtQual missing count:  37\n",
            "attribute  31 named  BsmtCond missing count:  37\n",
            "attribute  32 named  BsmtExposure missing count:  38\n",
            "attribute  33 named  BsmtFinType1 missing count:  37\n",
            "attribute  34 named  BsmtFinSF1 missing count:  0\n",
            "attribute  35 named  BsmtFinType2 missing count:  38\n",
            "attribute  36 named  BsmtFinSF2 missing count:  0\n",
            "attribute  37 named  BsmtUnfSF missing count:  0\n",
            "attribute  38 named  TotalBsmtSF missing count:  0\n",
            "attribute  39 named  Heating missing count:  0\n",
            "attribute  40 named  HeatingQC missing count:  0\n",
            "attribute  41 named  CentralAir missing count:  0\n",
            "attribute  42 named  Electrical missing count:  1\n",
            "attribute  43 named  1stFlrSF missing count:  0\n",
            "attribute  44 named  2ndFlrSF missing count:  0\n",
            "attribute  45 named  LowQualFinSF missing count:  0\n",
            "attribute  46 named  GrLivArea missing count:  0\n",
            "attribute  47 named  BsmtFullBath missing count:  0\n",
            "attribute  48 named  BsmtHalfBath missing count:  0\n",
            "attribute  49 named  FullBath missing count:  0\n",
            "attribute  50 named  HalfBath missing count:  0\n",
            "attribute  51 named  BedroomAbvGr missing count:  0\n",
            "attribute  52 named  KitchenAbvGr missing count:  0\n",
            "attribute  53 named  KitchenQual missing count:  0\n",
            "attribute  54 named  TotRmsAbvGrd missing count:  0\n",
            "attribute  55 named  Functional missing count:  0\n",
            "attribute  56 named  Fireplaces missing count:  0\n",
            "attribute  57 named  FireplaceQu missing count:  690\n",
            "attribute  58 named  GarageType missing count:  81\n",
            "attribute  59 named  GarageYrBlt missing count:  81\n",
            "attribute  60 named  GarageFinish missing count:  81\n",
            "attribute  61 named  GarageCars missing count:  0\n",
            "attribute  62 named  GarageArea missing count:  0\n",
            "attribute  63 named  GarageQual missing count:  81\n",
            "attribute  64 named  GarageCond missing count:  81\n",
            "attribute  65 named  PavedDrive missing count:  0\n",
            "attribute  66 named  WoodDeckSF missing count:  0\n",
            "attribute  67 named  OpenPorchSF missing count:  0\n",
            "attribute  68 named  EnclosedPorch missing count:  0\n",
            "attribute  69 named  3SsnPorch missing count:  0\n",
            "attribute  70 named  ScreenPorch missing count:  0\n",
            "attribute  71 named  PoolArea missing count:  0\n",
            "attribute  72 named  PoolQC missing count:  1453\n",
            "attribute  73 named  Fence missing count:  1179\n",
            "attribute  74 named  MiscFeature missing count:  1406\n",
            "attribute  75 named  MiscVal missing count:  0\n",
            "attribute  76 named  MoSold missing count:  0\n",
            "attribute  77 named  YrSold missing count:  0\n",
            "attribute  78 named  SaleType missing count:  0\n",
            "attribute  79 named  SaleCondition missing count:  0\n",
            "attribute  80 named  SalePrice missing count:  0\n"
          ],
          "name": "stdout"
        }
      ]
    },
    {
      "cell_type": "code",
      "metadata": {
        "id": "NEiNd76tK4P9"
      },
      "source": [
        "train = train.drop(columns=['LotFrontage','Alley', 'FireplaceQu', 'PoolQC', 'Fence', 'MiscFeature'])\n",
        "test = test.drop(columns=['LotFrontage','Alley', 'FireplaceQu', 'PoolQC', 'Fence', 'MiscFeature'])"
      ],
      "execution_count": null,
      "outputs": []
    },
    {
      "cell_type": "code",
      "metadata": {
        "colab": {
          "base_uri": "https://localhost:8080/"
        },
        "id": "F9z2ueB-SlLc",
        "outputId": "4d34fc8f-6440-42b8-d249-65f9fc9cf7ee"
      },
      "source": [
        "i=0\n",
        "for column in train:\n",
        "  print(\"attribute \", i, \"named \", column, \"missing count: \", train[column].isna().sum())\n",
        "  i += 1"
      ],
      "execution_count": null,
      "outputs": [
        {
          "output_type": "stream",
          "text": [
            "attribute  0 named  Id missing count:  0\n",
            "attribute  1 named  MSSubClass missing count:  0\n",
            "attribute  2 named  MSZoning missing count:  0\n",
            "attribute  3 named  LotArea missing count:  0\n",
            "attribute  4 named  Street missing count:  0\n",
            "attribute  5 named  LotShape missing count:  0\n",
            "attribute  6 named  LandContour missing count:  0\n",
            "attribute  7 named  Utilities missing count:  0\n",
            "attribute  8 named  LotConfig missing count:  0\n",
            "attribute  9 named  LandSlope missing count:  0\n",
            "attribute  10 named  Neighborhood missing count:  0\n",
            "attribute  11 named  Condition1 missing count:  0\n",
            "attribute  12 named  Condition2 missing count:  0\n",
            "attribute  13 named  BldgType missing count:  0\n",
            "attribute  14 named  HouseStyle missing count:  0\n",
            "attribute  15 named  OverallQual missing count:  0\n",
            "attribute  16 named  OverallCond missing count:  0\n",
            "attribute  17 named  YearBuilt missing count:  0\n",
            "attribute  18 named  YearRemodAdd missing count:  0\n",
            "attribute  19 named  RoofStyle missing count:  0\n",
            "attribute  20 named  RoofMatl missing count:  0\n",
            "attribute  21 named  Exterior1st missing count:  0\n",
            "attribute  22 named  Exterior2nd missing count:  0\n",
            "attribute  23 named  MasVnrType missing count:  8\n",
            "attribute  24 named  MasVnrArea missing count:  8\n",
            "attribute  25 named  ExterQual missing count:  0\n",
            "attribute  26 named  ExterCond missing count:  0\n",
            "attribute  27 named  Foundation missing count:  0\n",
            "attribute  28 named  BsmtQual missing count:  37\n",
            "attribute  29 named  BsmtCond missing count:  37\n",
            "attribute  30 named  BsmtExposure missing count:  38\n",
            "attribute  31 named  BsmtFinType1 missing count:  37\n",
            "attribute  32 named  BsmtFinSF1 missing count:  0\n",
            "attribute  33 named  BsmtFinType2 missing count:  38\n",
            "attribute  34 named  BsmtFinSF2 missing count:  0\n",
            "attribute  35 named  BsmtUnfSF missing count:  0\n",
            "attribute  36 named  TotalBsmtSF missing count:  0\n",
            "attribute  37 named  Heating missing count:  0\n",
            "attribute  38 named  HeatingQC missing count:  0\n",
            "attribute  39 named  CentralAir missing count:  0\n",
            "attribute  40 named  Electrical missing count:  1\n",
            "attribute  41 named  1stFlrSF missing count:  0\n",
            "attribute  42 named  2ndFlrSF missing count:  0\n",
            "attribute  43 named  LowQualFinSF missing count:  0\n",
            "attribute  44 named  GrLivArea missing count:  0\n",
            "attribute  45 named  BsmtFullBath missing count:  0\n",
            "attribute  46 named  BsmtHalfBath missing count:  0\n",
            "attribute  47 named  FullBath missing count:  0\n",
            "attribute  48 named  HalfBath missing count:  0\n",
            "attribute  49 named  BedroomAbvGr missing count:  0\n",
            "attribute  50 named  KitchenAbvGr missing count:  0\n",
            "attribute  51 named  KitchenQual missing count:  0\n",
            "attribute  52 named  TotRmsAbvGrd missing count:  0\n",
            "attribute  53 named  Functional missing count:  0\n",
            "attribute  54 named  Fireplaces missing count:  0\n",
            "attribute  55 named  GarageType missing count:  81\n",
            "attribute  56 named  GarageYrBlt missing count:  81\n",
            "attribute  57 named  GarageFinish missing count:  81\n",
            "attribute  58 named  GarageCars missing count:  0\n",
            "attribute  59 named  GarageArea missing count:  0\n",
            "attribute  60 named  GarageQual missing count:  81\n",
            "attribute  61 named  GarageCond missing count:  81\n",
            "attribute  62 named  PavedDrive missing count:  0\n",
            "attribute  63 named  WoodDeckSF missing count:  0\n",
            "attribute  64 named  OpenPorchSF missing count:  0\n",
            "attribute  65 named  EnclosedPorch missing count:  0\n",
            "attribute  66 named  3SsnPorch missing count:  0\n",
            "attribute  67 named  ScreenPorch missing count:  0\n",
            "attribute  68 named  PoolArea missing count:  0\n",
            "attribute  69 named  MiscVal missing count:  0\n",
            "attribute  70 named  MoSold missing count:  0\n",
            "attribute  71 named  YrSold missing count:  0\n",
            "attribute  72 named  SaleType missing count:  0\n",
            "attribute  73 named  SaleCondition missing count:  0\n",
            "attribute  74 named  SalePrice missing count:  0\n"
          ],
          "name": "stdout"
        }
      ]
    },
    {
      "cell_type": "code",
      "metadata": {
        "colab": {
          "base_uri": "https://localhost:8080/"
        },
        "id": "0N8PDy5ZTCJa",
        "outputId": "b623071f-118e-4038-c292-2b6b3ae951d4"
      },
      "source": [
        "train = train.dropna(subset=['MasVnrType', 'Electrical', 'BsmtFinType2', 'BsmtExposure', 'GarageCond'])\n",
        "i=0\n",
        "for column in train:\n",
        "  print(\"attribute \", i, \"named \", column, \"missing count: \", train[column].isna().sum())\n",
        "  i += 1\n",
        "\n"
      ],
      "execution_count": null,
      "outputs": [
        {
          "output_type": "stream",
          "text": [
            "attribute  0 named  Id missing count:  0\n",
            "attribute  1 named  MSSubClass missing count:  0\n",
            "attribute  2 named  MSZoning missing count:  0\n",
            "attribute  3 named  LotArea missing count:  0\n",
            "attribute  4 named  Street missing count:  0\n",
            "attribute  5 named  LotShape missing count:  0\n",
            "attribute  6 named  LandContour missing count:  0\n",
            "attribute  7 named  Utilities missing count:  0\n",
            "attribute  8 named  LotConfig missing count:  0\n",
            "attribute  9 named  LandSlope missing count:  0\n",
            "attribute  10 named  Neighborhood missing count:  0\n",
            "attribute  11 named  Condition1 missing count:  0\n",
            "attribute  12 named  Condition2 missing count:  0\n",
            "attribute  13 named  BldgType missing count:  0\n",
            "attribute  14 named  HouseStyle missing count:  0\n",
            "attribute  15 named  OverallQual missing count:  0\n",
            "attribute  16 named  OverallCond missing count:  0\n",
            "attribute  17 named  YearBuilt missing count:  0\n",
            "attribute  18 named  YearRemodAdd missing count:  0\n",
            "attribute  19 named  RoofStyle missing count:  0\n",
            "attribute  20 named  RoofMatl missing count:  0\n",
            "attribute  21 named  Exterior1st missing count:  0\n",
            "attribute  22 named  Exterior2nd missing count:  0\n",
            "attribute  23 named  MasVnrType missing count:  0\n",
            "attribute  24 named  MasVnrArea missing count:  0\n",
            "attribute  25 named  ExterQual missing count:  0\n",
            "attribute  26 named  ExterCond missing count:  0\n",
            "attribute  27 named  Foundation missing count:  0\n",
            "attribute  28 named  BsmtQual missing count:  0\n",
            "attribute  29 named  BsmtCond missing count:  0\n",
            "attribute  30 named  BsmtExposure missing count:  0\n",
            "attribute  31 named  BsmtFinType1 missing count:  0\n",
            "attribute  32 named  BsmtFinSF1 missing count:  0\n",
            "attribute  33 named  BsmtFinType2 missing count:  0\n",
            "attribute  34 named  BsmtFinSF2 missing count:  0\n",
            "attribute  35 named  BsmtUnfSF missing count:  0\n",
            "attribute  36 named  TotalBsmtSF missing count:  0\n",
            "attribute  37 named  Heating missing count:  0\n",
            "attribute  38 named  HeatingQC missing count:  0\n",
            "attribute  39 named  CentralAir missing count:  0\n",
            "attribute  40 named  Electrical missing count:  0\n",
            "attribute  41 named  1stFlrSF missing count:  0\n",
            "attribute  42 named  2ndFlrSF missing count:  0\n",
            "attribute  43 named  LowQualFinSF missing count:  0\n",
            "attribute  44 named  GrLivArea missing count:  0\n",
            "attribute  45 named  BsmtFullBath missing count:  0\n",
            "attribute  46 named  BsmtHalfBath missing count:  0\n",
            "attribute  47 named  FullBath missing count:  0\n",
            "attribute  48 named  HalfBath missing count:  0\n",
            "attribute  49 named  BedroomAbvGr missing count:  0\n",
            "attribute  50 named  KitchenAbvGr missing count:  0\n",
            "attribute  51 named  KitchenQual missing count:  0\n",
            "attribute  52 named  TotRmsAbvGrd missing count:  0\n",
            "attribute  53 named  Functional missing count:  0\n",
            "attribute  54 named  Fireplaces missing count:  0\n",
            "attribute  55 named  GarageType missing count:  0\n",
            "attribute  56 named  GarageYrBlt missing count:  0\n",
            "attribute  57 named  GarageFinish missing count:  0\n",
            "attribute  58 named  GarageCars missing count:  0\n",
            "attribute  59 named  GarageArea missing count:  0\n",
            "attribute  60 named  GarageQual missing count:  0\n",
            "attribute  61 named  GarageCond missing count:  0\n",
            "attribute  62 named  PavedDrive missing count:  0\n",
            "attribute  63 named  WoodDeckSF missing count:  0\n",
            "attribute  64 named  OpenPorchSF missing count:  0\n",
            "attribute  65 named  EnclosedPorch missing count:  0\n",
            "attribute  66 named  3SsnPorch missing count:  0\n",
            "attribute  67 named  ScreenPorch missing count:  0\n",
            "attribute  68 named  PoolArea missing count:  0\n",
            "attribute  69 named  MiscVal missing count:  0\n",
            "attribute  70 named  MoSold missing count:  0\n",
            "attribute  71 named  YrSold missing count:  0\n",
            "attribute  72 named  SaleType missing count:  0\n",
            "attribute  73 named  SaleCondition missing count:  0\n",
            "attribute  74 named  SalePrice missing count:  0\n"
          ],
          "name": "stdout"
        }
      ]
    },
    {
      "cell_type": "code",
      "metadata": {
        "colab": {
          "base_uri": "https://localhost:8080/"
        },
        "id": "DekK2zeGUBNH",
        "outputId": "94fbd209-c4af-43e3-d127-0974db9c063d"
      },
      "source": [
        "print(len(train['Id']))"
      ],
      "execution_count": null,
      "outputs": [
        {
          "output_type": "stream",
          "text": [
            "1338\n"
          ],
          "name": "stdout"
        }
      ]
    },
    {
      "cell_type": "markdown",
      "metadata": {
        "id": "Ms8lWJ2IVBY3"
      },
      "source": [
        "1. [x] Drop columns\n",
        "1. [x] Drop attributes\n",
        "1. [ ] Φτιαχνω labels\n",
        "1. [ ] Φτιαχνω OneHot\n",
        "1. [ ] Κανω επιλογη features (μαλλον PCA, και ?clustering?)\n",
        "1. [ ] Linear regression (+ridge, lasso, κτλπ)\n",
        "1. [ ] Polynomial regression (+ridge,...)\n",
        "1. [ ] Έχω άλλες επιλογές? (να δουμε Geron)"
      ]
    },
    {
      "cell_type": "code",
      "metadata": {
        "id": "ya76rjWiUjur"
      },
      "source": [
        ""
      ],
      "execution_count": null,
      "outputs": []
    }
  ]
}